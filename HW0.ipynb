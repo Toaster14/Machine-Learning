{
 "cells": [
  {
   "cell_type": "code",
   "execution_count": 1,
   "id": "4fb48fa1-7422-4b2f-b970-6e9a1e2f64d1",
   "metadata": {},
   "outputs": [],
   "source": [
    "import numpy as np \n",
    "import pandas as pd \n",
    "import matplotlib.pyplot as plt"
   ]
  },
  {
   "cell_type": "code",
   "execution_count": 2,
   "id": "5ff56579-8329-4271-892f-a6119e4e92fc",
   "metadata": {},
   "outputs": [
    {
     "data": {
      "text/html": [
       "<div>\n",
       "<style scoped>\n",
       "    .dataframe tbody tr th:only-of-type {\n",
       "        vertical-align: middle;\n",
       "    }\n",
       "\n",
       "    .dataframe tbody tr th {\n",
       "        vertical-align: top;\n",
       "    }\n",
       "\n",
       "    .dataframe thead th {\n",
       "        text-align: right;\n",
       "    }\n",
       "</style>\n",
       "<table border=\"1\" class=\"dataframe\">\n",
       "  <thead>\n",
       "    <tr style=\"text-align: right;\">\n",
       "      <th></th>\n",
       "      <th>X1</th>\n",
       "      <th>X2</th>\n",
       "      <th>X3</th>\n",
       "      <th>Y</th>\n",
       "    </tr>\n",
       "  </thead>\n",
       "  <tbody>\n",
       "    <tr>\n",
       "      <th>0</th>\n",
       "      <td>0.000000</td>\n",
       "      <td>3.440000</td>\n",
       "      <td>0.440000</td>\n",
       "      <td>4.387545</td>\n",
       "    </tr>\n",
       "    <tr>\n",
       "      <th>1</th>\n",
       "      <td>0.040404</td>\n",
       "      <td>0.134949</td>\n",
       "      <td>0.888485</td>\n",
       "      <td>2.679650</td>\n",
       "    </tr>\n",
       "    <tr>\n",
       "      <th>2</th>\n",
       "      <td>0.080808</td>\n",
       "      <td>0.829899</td>\n",
       "      <td>1.336970</td>\n",
       "      <td>2.968490</td>\n",
       "    </tr>\n",
       "    <tr>\n",
       "      <th>3</th>\n",
       "      <td>0.121212</td>\n",
       "      <td>1.524848</td>\n",
       "      <td>1.785455</td>\n",
       "      <td>3.254065</td>\n",
       "    </tr>\n",
       "    <tr>\n",
       "      <th>4</th>\n",
       "      <td>0.161616</td>\n",
       "      <td>2.219798</td>\n",
       "      <td>2.233939</td>\n",
       "      <td>3.536375</td>\n",
       "    </tr>\n",
       "  </tbody>\n",
       "</table>\n",
       "</div>"
      ],
      "text/plain": [
       "         X1        X2        X3         Y\n",
       "0  0.000000  3.440000  0.440000  4.387545\n",
       "1  0.040404  0.134949  0.888485  2.679650\n",
       "2  0.080808  0.829899  1.336970  2.968490\n",
       "3  0.121212  1.524848  1.785455  3.254065\n",
       "4  0.161616  2.219798  2.233939  3.536375"
      ]
     },
     "execution_count": 2,
     "metadata": {},
     "output_type": "execute_result"
    }
   ],
   "source": [
    "df = pd.read_csv(r'C:\\Users\\nateisgreat98\\Downloads\\D3.csv')\n",
    "df.head()        "
   ]
  },
  {
   "cell_type": "code",
   "execution_count": 3,
   "id": "43ea852c-a0ba-48b0-87bf-c1242ea61392",
   "metadata": {},
   "outputs": [
    {
     "name": "stdout",
     "output_type": "stream",
     "text": [
      "V =  [0.         0.04040404 0.08080808 0.12121212 0.16161616]\n",
      "W =  [3.44       0.1349495  0.82989899 1.52484848 2.21979798]\n",
      "X =  [0.44       0.88848485 1.3369697  1.78545454 2.23393939]\n",
      "y =  [4.38754501 2.6796499  2.96848981 3.25406475 3.53637472]\n",
      "m =  100\n"
     ]
    }
   ],
   "source": [
    "V = df.values[:, 0] # get input values from first column\n",
    "W = df.values[:, 1] # get input values from second column\n",
    "X = df.values[:, 2] # get input values from third column\n",
    "y = df.values[:, 3] # get output values from fourth column\n",
    "m = len(y) # Number of training examples\n",
    "print('V = ',V[: 5])\n",
    "print('W = ',W[: 5])\n",
    "print('X = ',X[: 5])\n",
    "print('y = ',y[: 5])\n",
    "print('m = ',m)"
   ]
  },
  {
   "cell_type": "code",
   "execution_count": 4,
   "id": "1addc496-d60f-4d98-ad06-b62e489379fb",
   "metadata": {},
   "outputs": [],
   "source": [
    "V_0 = np.ones((m, 1))\n",
    "W_0 = np.ones((m, 1))\n",
    "X_0 = np.ones((m, 1))"
   ]
  },
  {
   "cell_type": "code",
   "execution_count": 5,
   "id": "26f37958-c9a1-4c47-93b9-5dac32d4fdf5",
   "metadata": {},
   "outputs": [],
   "source": [
    "V_1 = V.reshape(m,1)\n",
    "W_1 = W.reshape(m,1)\n",
    "X_1 = X.reshape(m,1)"
   ]
  },
  {
   "cell_type": "code",
   "execution_count": 6,
   "id": "978eb86a-1ed5-499c-9e2b-20968ac9276a",
   "metadata": {},
   "outputs": [],
   "source": [
    "V = np.hstack((V_0, V_1))\n",
    "W = np.hstack((W_0, W_1))\n",
    "X = np.hstack((X_0, X_1))\n",
    "Z = np.hstack((X_0, V_1, W_1, X_1))"
   ]
  },
  {
   "cell_type": "code",
   "execution_count": 7,
   "id": "46a26588-cb78-4c36-90cb-24fdc2172113",
   "metadata": {},
   "outputs": [],
   "source": [
    "theta = np.zeros(2)\n",
    "theta2 = np.zeros(4)"
   ]
  },
  {
   "cell_type": "code",
   "execution_count": 8,
   "id": "01ffd2d9-f77d-477f-9db7-08a2a0bf8235",
   "metadata": {},
   "outputs": [],
   "source": [
    "def compute_cost(X, y, theta):\n",
    "    \n",
    "    predictions = X.dot(theta)\n",
    "    errors = np.subtract(predictions, y)\n",
    "    sqrErrors = np.square(errors)\n",
    "    J = 1 / (2 * m) * np.sum(sqrErrors)\n",
    "    \n",
    "    return J"
   ]
  },
  {
   "cell_type": "code",
   "execution_count": 9,
   "id": "fdb1d771-6c58-4b9c-a647-13fc654c1310",
   "metadata": {},
   "outputs": [],
   "source": [
    "def gradient_descent(X, y, theta, alpha, iterations):\n",
    "    \n",
    "    cost_history = np.zeros(iterations)\n",
    "    \n",
    "    for i in range(iterations):\n",
    "        predictions = X.dot(theta)\n",
    "        errors = np.subtract(predictions, y)\n",
    "        sum_delta = (alpha / m) * X.transpose().dot(errors);\n",
    "        theta = theta - sum_delta;\n",
    "        cost_history[i] = compute_cost(X, y, theta)\n",
    "    \n",
    "    return theta, cost_history"
   ]
  },
  {
   "cell_type": "code",
   "execution_count": 10,
   "id": "b717a3b8-1dba-4f5f-b2c8-d9dcd420716c",
   "metadata": {},
   "outputs": [],
   "source": [
    "theta = [0., 0.]\n",
    "iterations = 1500;\n",
    "alpha = 0.1;"
   ]
  },
  {
   "cell_type": "markdown",
   "id": "07d3caf1-81b6-4f48-80ff-b1007ced31ca",
   "metadata": {},
   "source": [
    "theta, cost_history = gradient_descent(V, y, theta, alpha, iterations)\n",
    "print('Final value of theta =', theta)\n",
    "print('cost_history =', cost_history)"
   ]
  },
  {
   "cell_type": "code",
   "execution_count": 11,
   "id": "9159c9f7-b41b-4811-9ecd-ec8f89c79b03",
   "metadata": {},
   "outputs": [
    {
     "name": "stdout",
     "output_type": "stream",
     "text": [
      "Final value of theta = [ 5.92794892 -2.03833663]\n",
      "cost_history = [5.16999006 4.96338989 4.7855721  ... 0.98499308 0.98499308 0.98499308]\n"
     ]
    }
   ],
   "source": [
    "theta, cost_history = gradient_descent(V, y, theta, alpha, iterations)\n",
    "print('Final value of theta =', theta)\n",
    "print('cost_history =', cost_history)\n",
    "X1_cost = cost_history[-1]"
   ]
  },
  {
   "cell_type": "code",
   "execution_count": 12,
   "id": "889459a5-5fdf-4d0d-8549-4101ac4ac355",
   "metadata": {},
   "outputs": [
    {
     "data": {
      "text/plain": [
       "<matplotlib.legend.Legend at 0x1dd72432190>"
      ]
     },
     "execution_count": 12,
     "metadata": {},
     "output_type": "execute_result"
    },
    {
     "data": {
      "image/png": "[encoded data removed]",
      "text/plain": [
       "<Figure size 432x288 with 1 Axes>"
      ]
     },
     "metadata": {
      "needs_background": "light"
     },
     "output_type": "display_data"
    }
   ],
   "source": [
    "plt.scatter(V[:,1], y, color = 'red', marker = '+', label = 'Training Data')\n",
    "plt.plot(V[:,1], V.dot(theta), color = 'green', label = 'Linear Regression')\n",
    "\n",
    "plt.rcParams[\"figure.figsize\"] = (10,6)\n",
    "plt.grid()\n",
    "plt.xlabel('X1')\n",
    "plt.ylabel('Y Value')\n",
    "plt.title('Linear Regression Fit for X1')\n",
    "plt.legend()"
   ]
  },
  {
   "cell_type": "code",
   "execution_count": 13,
   "id": "ef20b6cf-a321-4117-8c4e-4b7f2c73de17",
   "metadata": {},
   "outputs": [
    {
     "name": "stdout",
     "output_type": "stream",
     "text": [
      "Final value of theta = [0.73606043 0.55760761]\n",
      "cost_history = [7.26987578 7.00288482 6.83790041 ... 3.59936602 3.59936602 3.59936602]\n"
     ]
    }
   ],
   "source": [
    "theta, cost_history = gradient_descent(W, y, theta, alpha, iterations)\n",
    "print('Final value of theta =', theta)\n",
    "print('cost_history =', cost_history)\n",
    "X2_cost = cost_history[-1]"
   ]
  },
  {
   "cell_type": "code",
   "execution_count": 14,
   "id": "3fd06135-7574-4a51-9381-d86c3cf68578",
   "metadata": {},
   "outputs": [
    {
     "data": {
      "text/plain": [
       "<matplotlib.legend.Legend at 0x1dd72564cd0>"
      ]
     },
     "execution_count": 14,
     "metadata": {},
     "output_type": "execute_result"
    },
    {
     "data": {
      "image/png": "[encoded data removed]",
      "text/plain": [
       "<Figure size 720x432 with 1 Axes>"
      ]
     },
     "metadata": {
      "needs_background": "light"
     },
     "output_type": "display_data"
    }
   ],
   "source": [
    "plt.scatter(W[:,1], y, color = 'red', marker = '+', label = 'Training Data')\n",
    "plt.plot(W[:,1], W.dot(theta), color = 'green', label = 'Linear Regression')\n",
    "\n",
    "plt.rcParams[\"figure.figsize\"] = (10,6)\n",
    "plt.grid()\n",
    "plt.xlabel('Column 2 Values')\n",
    "plt.ylabel('Y Value')\n",
    "plt.title('Linear Regression Fit for X2')\n",
    "plt.legend()"
   ]
  },
  {
   "cell_type": "code",
   "execution_count": 15,
   "id": "f68486e5-6756-4c4e-b796-73071528875c",
   "metadata": {
    "scrolled": true
   },
   "outputs": [
    {
     "name": "stdout",
     "output_type": "stream",
     "text": [
      "Final value of theta = [ 2.8714221  -0.52048288]\n",
      "cost_history = [4.26200819 4.21568729 4.18664662 ... 3.62945112 3.62945112 3.62945112]\n"
     ]
    }
   ],
   "source": [
    "theta, cost_history = gradient_descent(X, y, theta, alpha, iterations)\n",
    "print('Final value of theta =', theta)\n",
    "print('cost_history =', cost_history)\n",
    "X3_cost = cost_history[-1]"
   ]
  },
  {
   "cell_type": "code",
   "execution_count": 16,
   "id": "3bc1afd6-aaa2-4929-a0af-1963fe4e1b3f",
   "metadata": {},
   "outputs": [
    {
     "data": {
      "text/plain": [
       "<matplotlib.legend.Legend at 0x1dd726fa610>"
      ]
     },
     "execution_count": 16,
     "metadata": {},
     "output_type": "execute_result"
    },
    {
     "data": {
      "image/png": "[encoded data removed]",
      "text/plain": [
       "<Figure size 720x432 with 1 Axes>"
      ]
     },
     "metadata": {
      "needs_background": "light"
     },
     "output_type": "display_data"
    }
   ],
   "source": [
    "plt.scatter(X[:,1], y, color = 'red', marker = '+', label = 'Training Data')\n",
    "plt.plot(X[:,1], X.dot(theta), color = 'green', label = 'Linear Regression')\n",
    "\n",
    "plt.rcParams[\"figure.figsize\"] = (10,6)\n",
    "plt.grid()\n",
    "plt.xlabel('Column 3 Values')\n",
    "plt.ylabel('Y Value')\n",
    "plt.title('Linear Regression Fit for X3')\n",
    "plt.legend()"
   ]
  },
  {
   "cell_type": "code",
   "execution_count": 17,
   "id": "9bd8d988",
   "metadata": {
    "scrolled": true
   },
   "outputs": [
    {
     "data": {
      "text/plain": [
       "5.524438459196242"
      ]
     },
     "execution_count": 17,
     "metadata": {},
     "output_type": "execute_result"
    }
   ],
   "source": [
    "compute_cost(Z, y, theta2)"
   ]
  },
  {
   "cell_type": "code",
   "execution_count": 18,
   "id": "01472251",
   "metadata": {},
   "outputs": [
    {
     "data": {
      "text/plain": [
       "Text(0.5, 1.0, 'Convergence of gradient descent')"
      ]
     },
     "execution_count": 18,
     "metadata": {},
     "output_type": "execute_result"
    },
    {
     "data": {
      "image/png": "[encoded data removed]",
      "text/plain": [
       "<Figure size 720x432 with 1 Axes>"
      ]
     },
     "metadata": {
      "needs_background": "light"
     },
     "output_type": "display_data"
    }
   ],
   "source": [
    "plt.plot(range(1,iterations+1),cost_history,color='blue')\n",
    "plt.rcParams[\"figure.figsize\"]=(10,6)\n",
    "plt.grid()\n",
    "plt.xlabel('Number of iterations')\n",
    "plt.ylabel('Cost (J)')\n",
    "plt.title('Convergence of gradient descent')"
   ]
  },
  {
   "cell_type": "code",
   "execution_count": 19,
   "id": "4e21565d",
   "metadata": {},
   "outputs": [],
   "source": [
    "# Looking at the final cost values for a variety of alphas it appears that the best learning rate is 0.1"
   ]
  },
  {
   "cell_type": "code",
   "execution_count": 20,
   "id": "60d49602",
   "metadata": {},
   "outputs": [],
   "source": [
    "# Question 1 part 1&2:"
   ]
  },
  {
   "cell_type": "code",
   "execution_count": 21,
   "id": "3710bd2b",
   "metadata": {},
   "outputs": [],
   "source": [
    "# Code for Linear Regression for data set X1\n",
    "theta, cost_history = gradient_descent(V, y, theta, alpha, iterations)"
   ]
  },
  {
   "cell_type": "code",
   "execution_count": 22,
   "id": "ba891d51",
   "metadata": {
    "scrolled": false
   },
   "outputs": [
    {
     "data": {
      "text/plain": [
       "<matplotlib.legend.Legend at 0x1dd7265ccd0>"
      ]
     },
     "execution_count": 22,
     "metadata": {},
     "output_type": "execute_result"
    },
    {
     "data": {
      "image/png": "[encoded data removed]",
      "text/plain": [
       "<Figure size 720x432 with 1 Axes>"
      ]
     },
     "metadata": {
      "needs_background": "light"
     },
     "output_type": "display_data"
    }
   ],
   "source": [
    "# Graph of Linear Regression for data set X1\n",
    "plt.scatter(V[:,1], y, color = 'red', marker = '+', label = 'Training Data')\n",
    "plt.plot(V[:,1], V.dot(theta), color = 'green', label = 'Linear Regression')\n",
    "plt.rcParams[\"figure.figsize\"] = (10,6)\n",
    "plt.grid()\n",
    "plt.xlabel('X1')\n",
    "plt.ylabel('Y Value')\n",
    "plt.title('Linear Regression Fit for X1')\n",
    "plt.legend()"
   ]
  },
  {
   "cell_type": "code",
   "execution_count": 23,
   "id": "2b9b0634",
   "metadata": {},
   "outputs": [
    {
     "data": {
      "text/plain": [
       "Text(0.5, 1.0, 'Convergence of gradient descent for X1')"
      ]
     },
     "execution_count": 23,
     "metadata": {},
     "output_type": "execute_result"
    },
    {
     "data": {
      "image/png": "[encoded data removed]",
      "text/plain": [
       "<Figure size 720x432 with 1 Axes>"
      ]
     },
     "metadata": {
      "needs_background": "light"
     },
     "output_type": "display_data"
    }
   ],
   "source": [
    "# Graph of loss over Linear Regression for X1\n",
    "plt.plot(range(1,iterations+1),cost_history,color='blue')\n",
    "plt.rcParams[\"figure.figsize\"]=(10,6)\n",
    "plt.grid()\n",
    "plt.xlabel('Number of iterations')\n",
    "plt.ylabel('Cost (J)')\n",
    "plt.title('Convergence of gradient descent for X1')"
   ]
  },
  {
   "cell_type": "code",
   "execution_count": 24,
   "id": "5fd2e345",
   "metadata": {},
   "outputs": [],
   "source": [
    "# Code for Linear Regression for data set X2\n",
    "theta, cost_history = gradient_descent(W, y, theta, alpha, iterations)"
   ]
  },
  {
   "cell_type": "code",
   "execution_count": 25,
   "id": "8241fbc6",
   "metadata": {},
   "outputs": [
    {
     "data": {
      "text/plain": [
       "<matplotlib.legend.Legend at 0x1dd72781fd0>"
      ]
     },
     "execution_count": 25,
     "metadata": {},
     "output_type": "execute_result"
    },
    {
     "data": {
      "image/png": "[encoded data removed]",
      "text/plain": [
       "<Figure size 720x432 with 1 Axes>"
      ]
     },
     "metadata": {
      "needs_background": "light"
     },
     "output_type": "display_data"
    }
   ],
   "source": [
    "# Graph for Linear Regression for data set X2\n",
    "plt.scatter(W[:,1], y, color = 'red', marker = '+', label = 'Training Data')\n",
    "plt.plot(W[:,1], W.dot(theta), color = 'green', label = 'Linear Regression')\n",
    "plt.rcParams[\"figure.figsize\"] = (10,6)\n",
    "plt.grid()\n",
    "plt.xlabel('X2')\n",
    "plt.ylabel('Y Value')\n",
    "plt.title('Linear Regression Fit for X2')\n",
    "plt.legend()"
   ]
  },
  {
   "cell_type": "code",
   "execution_count": 26,
   "id": "704790b5",
   "metadata": {
    "scrolled": false
   },
   "outputs": [
    {
     "data": {
      "text/plain": [
       "Text(0.5, 1.0, 'Convergence of gradient descent for X2')"
      ]
     },
     "execution_count": 26,
     "metadata": {},
     "output_type": "execute_result"
    },
    {
     "data": {
      "image/png": "[encoded data removed]",
      "text/plain": [
       "<Figure size 720x432 with 1 Axes>"
      ]
     },
     "metadata": {
      "needs_background": "light"
     },
     "output_type": "display_data"
    }
   ],
   "source": [
    "# Graph of loss over Linear Regression for X1\n",
    "plt.plot(range(1,iterations+1),cost_history,color='blue')\n",
    "plt.rcParams[\"figure.figsize\"]=(10,6)\n",
    "plt.grid()\n",
    "plt.xlabel('Number of iterations')\n",
    "plt.ylabel('Cost (J)')\n",
    "plt.title('Convergence of gradient descent for X2')"
   ]
  },
  {
   "cell_type": "code",
   "execution_count": 27,
   "id": "4e8bb541",
   "metadata": {},
   "outputs": [],
   "source": [
    "# Code for Linear Regression for data set X3\n",
    "theta, cost_history = gradient_descent(X, y, theta, alpha, iterations)"
   ]
  },
  {
   "cell_type": "code",
   "execution_count": 28,
   "id": "50037c30",
   "metadata": {
    "scrolled": false
   },
   "outputs": [
    {
     "data": {
      "text/plain": [
       "<matplotlib.legend.Legend at 0x1dd7283c7c0>"
      ]
     },
     "execution_count": 28,
     "metadata": {},
     "output_type": "execute_result"
    },
    {
     "data": {
      "image/png": "[encoded data removed]",
      "text/plain": [
       "<Figure size 720x432 with 1 Axes>"
      ]
     },
     "metadata": {
      "needs_background": "light"
     },
     "output_type": "display_data"
    }
   ],
   "source": [
    "# Graph for Linear Regression for data set X3\n",
    "plt.scatter(X[:,1], y, color = 'red', marker = '+', label = 'Training Data')\n",
    "plt.plot(X[:,1], X.dot(theta), color = 'green', label = 'Linear Regression')\n",
    "plt.rcParams[\"figure.figsize\"] = (10,6)\n",
    "plt.grid()\n",
    "plt.xlabel('X3')\n",
    "plt.ylabel('Y Value')\n",
    "plt.title('Linear Regression Fit for X3')\n",
    "plt.legend()"
   ]
  },
  {
   "cell_type": "code",
   "execution_count": 29,
   "id": "4e7ce008",
   "metadata": {},
   "outputs": [],
   "source": [
    "# Question 1 part 3:\n",
    "# Comparing Various Learning Rates (alpha) and its effect on the Final Cost"
   ]
  },
  {
   "cell_type": "code",
   "execution_count": 30,
   "id": "3836f45b",
   "metadata": {},
   "outputs": [
    {
     "name": "stdout",
     "output_type": "stream",
     "text": [
      "Final Cost of X1 =  0.9849930825405946\n",
      "Final Cost of X2 =  3.5993660181680425\n",
      "Final Cost of X3 =  3.6294511246079155\n"
     ]
    }
   ],
   "source": [
    "alpha = 0.1\n",
    "theta, cost_history = gradient_descent(V, y, theta, alpha, iterations)\n",
    "print('Final Cost of X1 = ', cost_history[-1])\n",
    "theta, cost_history = gradient_descent(W, y, theta, alpha, iterations)\n",
    "print('Final Cost of X2 = ', cost_history[-1])\n",
    "theta, cost_history = gradient_descent(X, y, theta, alpha, iterations)\n",
    "print('Final Cost of X3 = ', cost_history[-1])"
   ]
  },
  {
   "cell_type": "code",
   "execution_count": 31,
   "id": "00a415bc",
   "metadata": {},
   "outputs": [
    {
     "name": "stdout",
     "output_type": "stream",
     "text": [
      "Final Cost of X1 =  0.9849930825405947\n",
      "Final Cost of X2 =  3.5993660181680425\n",
      "Final Cost of X3 =  3.629451124607915\n"
     ]
    }
   ],
   "source": [
    "alpha = 0.07\n",
    "theta, cost_history = gradient_descent(V, y, theta, alpha, iterations)\n",
    "print('Final Cost of X1 = ', cost_history[-1])\n",
    "theta, cost_history = gradient_descent(W, y, theta, alpha, iterations)\n",
    "print('Final Cost of X2 = ', cost_history[-1])\n",
    "theta, cost_history = gradient_descent(X, y, theta, alpha, iterations)\n",
    "print('Final Cost of X3 = ', cost_history[-1])"
   ]
  },
  {
   "cell_type": "code",
   "execution_count": 32,
   "id": "793cc33a",
   "metadata": {},
   "outputs": [
    {
     "name": "stdout",
     "output_type": "stream",
     "text": [
      "Final cost of X1 =  0.9849930825405985\n",
      "Final cost of X2 =  3.599366018168053\n",
      "Final cost of X3 =  3.6294511246079164\n"
     ]
    }
   ],
   "source": [
    "alpha = 0.05\n",
    "theta, cost_history = gradient_descent(V, y, theta, alpha, iterations)\n",
    "print('Final cost of X1 = ', cost_history[-1])\n",
    "theta, cost_history = gradient_descent(W, y, theta, alpha, iterations)\n",
    "print('Final cost of X2 = ', cost_history[-1])\n",
    "theta, cost_history = gradient_descent(X, y, theta, alpha, iterations)\n",
    "print('Final cost of X3 = ', cost_history[-1])"
   ]
  },
  {
   "cell_type": "code",
   "execution_count": 33,
   "id": "e81dd9a8",
   "metadata": {},
   "outputs": [
    {
     "name": "stdout",
     "output_type": "stream",
     "text": [
      "Final cost of X1 =  0.9849930851534258\n",
      "Final cost of X2 =  3.599366025728796\n",
      "Final cost of X3 =  3.6294511255785453\n"
     ]
    }
   ],
   "source": [
    "alpha = 0.03\n",
    "theta, cost_history = gradient_descent(V, y, theta, alpha, iterations)\n",
    "print('Final cost of X1 = ', cost_history[-1])\n",
    "theta, cost_history = gradient_descent(W, y, theta, alpha, iterations)\n",
    "print('Final cost of X2 = ', cost_history[-1])\n",
    "theta, cost_history = gradient_descent(X, y, theta, alpha, iterations)\n",
    "print('Final cost of X3 = ', cost_history[-1])"
   ]
  },
  {
   "cell_type": "code",
   "execution_count": 34,
   "id": "d1b51522",
   "metadata": {},
   "outputs": [
    {
     "name": "stdout",
     "output_type": "stream",
     "text": [
      "Final cost of X1 =  0.9866411102166737\n",
      "Final cost of X2 =  3.6039334268264422\n",
      "Final cost of X3 =  3.630074600634765\n"
     ]
    }
   ],
   "source": [
    "alpha = 0.01\n",
    "theta, cost_history = gradient_descent(V, y, theta, alpha, iterations)\n",
    "print('Final cost of X1 = ', cost_history[-1])\n",
    "theta, cost_history = gradient_descent(W, y, theta, alpha, iterations)\n",
    "print('Final cost of X2 = ', cost_history[-1])\n",
    "theta, cost_history = gradient_descent(X, y, theta, alpha, iterations)\n",
    "print('Final cost of X3 = ', cost_history[-1])"
   ]
  },
  {
   "cell_type": "code",
   "execution_count": 35,
   "id": "36388d68",
   "metadata": {},
   "outputs": [],
   "source": [
    "# Comparing these different final costs, it appears that a learning rate of 0.1 provides the least cost.\n",
    "# Further, variable X1 has the lowest cost in explaining the output."
   ]
  },
  {
   "cell_type": "code",
   "execution_count": 36,
   "id": "bad38df9",
   "metadata": {},
   "outputs": [],
   "source": [
    "# Question 1 part 4:\n",
    "# As the number of training iterations is increased, the more accurate the projections become to a point. After which it \n",
    "# becomes necessary to decrease the Learning Rate. Intriguingly, the smaller the Learning Rate becomes without affecting the \n",
    "# number of iterations, the lower the accuracy of the projections become. This makes sense. As the learning rate shrinks our \n",
    "# Linear Regression becomes more granular but also slower at homing in on an accurate model, necessitating more iterations to \n",
    "# reach an accurate estimation. Similarly, simply increasing the number of iterations only benefits the model up to a point, as \n",
    "# eventually any alteration in theta simply fails to produce a result more accurate than what the model had settled on before. \n",
    "# In other words, the Linear Regression will eventually reach a point where the Learning Rate is too large to increase the \n",
    "# accuracy of the model."
   ]
  },
  {
   "cell_type": "code",
   "execution_count": 37,
   "id": "deab2384",
   "metadata": {},
   "outputs": [],
   "source": [
    "# Question 2 part 1\n",
    "# The final linear model which utilized all 3 variables was by far the most accurate."
   ]
  },
  {
   "cell_type": "code",
   "execution_count": 39,
   "id": "8057f854",
   "metadata": {},
   "outputs": [
    {
     "name": "stdout",
     "output_type": "stream",
     "text": [
      "Final cost for final linear model =  0.738464241568294\n"
     ]
    }
   ],
   "source": [
    "# Code for final linear model\n",
    "alpha = 0.1\n",
    "theta2, cost_history = gradient_descent(Z, y, theta2, alpha, iterations)\n",
    "print('Final cost for final linear model = ', cost_history[-1])"
   ]
  },
  {
   "cell_type": "code",
   "execution_count": 40,
   "id": "851c5255-d40a-48c1-adb3-3f01aaab3f06",
   "metadata": {},
   "outputs": [
    {
     "data": {
      "text/plain": [
       "Text(0.5, 1.0, 'Convergence of gradient descent for X3')"
      ]
     },
     "execution_count": 40,
     "metadata": {},
     "output_type": "execute_result"
    },
    {
     "data": {
      "image/png": "[encoded data removed]",
      "text/plain": [
       "<Figure size 720x432 with 1 Axes>"
      ]
     },
     "metadata": {
      "needs_background": "light"
     },
     "output_type": "display_data"
    }
   ],
   "source": [
    "# Question 2 part 2, graph of loss vs iteration\n",
    "plt.plot(range(1,iterations+1),cost_history,color='blue')\n",
    "plt.rcParams[\"figure.figsize\"]=(10,6)\n",
    "plt.grid()\n",
    "plt.xlabel('Number of iterations')\n",
    "plt.ylabel('Cost (J)')\n",
    "plt.title('Convergence of gradient descent for X3')"
   ]
  },
  {
   "cell_type": "code",
   "execution_count": 41,
   "id": "c0e15da1",
   "metadata": {},
   "outputs": [],
   "source": [
    "# Question 2 part 3:\n",
    "# As before, increasing the number of training iterations increases the accuracy of the projections to a point. After this point \n",
    "# it becomes necessary to decrease the Learning Rate. As before, the smaller the Learning Rate becomes, withot affecting the \n",
    "# number of iterations, the lower the accuracy of the projections become. Again, this is because as the learning rate shrinks \n",
    "# our Linear Regression becomes more granular but also slower at homing in on an accurate model, necessitating more iterations \n",
    "# to reach an accurate estimation. Simply increasing the number of iterations only benefits the model up to a point, as \n",
    "# eventually any alteration in theta simply fails to produce a result more accurate than what the model had settled on before. \n",
    "# In other words, the Linear Regression will eventually reach a point where the Learning Rate is too large to increase the \n",
    "# accuracy of the model."
   ]
  },
  {
   "cell_type": "code",
   "execution_count": 42,
   "id": "072a0ae2",
   "metadata": {},
   "outputs": [],
   "source": [
    "# Question 2 part 4:"
   ]
  },
  {
   "cell_type": "code",
   "execution_count": 43,
   "id": "15d483be",
   "metadata": {},
   "outputs": [],
   "source": [
    "def find_value(X1, X2, X3):\n",
    "    newInput = [1, X1, X2, X3]\n",
    "    newY = 0\n",
    "    for i in range(4):\n",
    "        temp = newInput[i]*theta2[i]\n",
    "        newY = newY + temp\n",
    "    print('Predicted Y value: ', newY)"
   ]
  },
  {
   "cell_type": "code",
   "execution_count": 44,
   "id": "c47df5d1",
   "metadata": {},
   "outputs": [
    {
     "name": "stdout",
     "output_type": "stream",
     "text": [
      "Predicted Y value:  3.5774093742978157\n"
     ]
    }
   ],
   "source": [
    "find_value(1, 1, 1)"
   ]
  },
  {
   "cell_type": "code",
   "execution_count": 45,
   "id": "c7054811",
   "metadata": {},
   "outputs": [
    {
     "name": "stdout",
     "output_type": "stream",
     "text": [
      "Predicted Y value:  0.2443211728359722\n"
     ]
    }
   ],
   "source": [
    "find_value(2, 0, 4)"
   ]
  },
  {
   "cell_type": "code",
   "execution_count": 46,
   "id": "4680d930",
   "metadata": {
    "scrolled": true
   },
   "outputs": [
    {
     "name": "stdout",
     "output_type": "stream",
     "text": [
      "Predicted Y value:  0.10253417289222905\n"
     ]
    }
   ],
   "source": [
    "find_value(3, 2, 1)"
   ]
  }
 ],
 "metadata": {
  "kernelspec": {
   "display_name": "Python 3",
   "language": "python",
   "name": "python3"
  },
  "language_info": {
   "codemirror_mode": {
    "name": "ipython",
    "version": 3
   },
   "file_extension": ".py",
   "mimetype": "text/x-python",
   "name": "python",
   "nbconvert_exporter": "python",
   "pygments_lexer": "ipython3",
   "version": "3.8.8"
  }
 },
 "nbformat": 4,
 "nbformat_minor": 5
}
