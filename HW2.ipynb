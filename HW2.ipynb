{
 "cells": [
  {
   "cell_type": "code",
   "execution_count": 1,
   "id": "a3bdfc35",
   "metadata": {},
   "outputs": [],
   "source": [
    "import numpy as np \n",
    "import pandas as pd \n",
    "import matplotlib.pyplot as plt\n",
    "\n",
    "diabetes = pd.read_csv(r'C:\\Users\\nateisgreat98\\Downloads\\diabetes.csv') #pulling the data set"
   ]
  },
  {
   "cell_type": "code",
   "execution_count": 2,
   "id": "eb320adc",
   "metadata": {},
   "outputs": [
    {
     "data": {
      "text/html": [
       "<div>\n",
       "<style scoped>\n",
       "    .dataframe tbody tr th:only-of-type {\n",
       "        vertical-align: middle;\n",
       "    }\n",
       "\n",
       "    .dataframe tbody tr th {\n",
       "        vertical-align: top;\n",
       "    }\n",
       "\n",
       "    .dataframe thead th {\n",
       "        text-align: right;\n",
       "    }\n",
       "</style>\n",
       "<table border=\"1\" class=\"dataframe\">\n",
       "  <thead>\n",
       "    <tr style=\"text-align: right;\">\n",
       "      <th></th>\n",
       "      <th>Pregnancies</th>\n",
       "      <th>Glucose</th>\n",
       "      <th>BloodPressure</th>\n",
       "      <th>SkinThickness</th>\n",
       "      <th>Insulin</th>\n",
       "      <th>BMI</th>\n",
       "      <th>DiabetesPedigreeFunction</th>\n",
       "      <th>Age</th>\n",
       "      <th>Outcome</th>\n",
       "    </tr>\n",
       "  </thead>\n",
       "  <tbody>\n",
       "    <tr>\n",
       "      <th>0</th>\n",
       "      <td>6</td>\n",
       "      <td>148</td>\n",
       "      <td>72</td>\n",
       "      <td>35</td>\n",
       "      <td>0</td>\n",
       "      <td>33.6</td>\n",
       "      <td>0.627</td>\n",
       "      <td>50</td>\n",
       "      <td>1</td>\n",
       "    </tr>\n",
       "    <tr>\n",
       "      <th>1</th>\n",
       "      <td>1</td>\n",
       "      <td>85</td>\n",
       "      <td>66</td>\n",
       "      <td>29</td>\n",
       "      <td>0</td>\n",
       "      <td>26.6</td>\n",
       "      <td>0.351</td>\n",
       "      <td>31</td>\n",
       "      <td>0</td>\n",
       "    </tr>\n",
       "    <tr>\n",
       "      <th>2</th>\n",
       "      <td>8</td>\n",
       "      <td>183</td>\n",
       "      <td>64</td>\n",
       "      <td>0</td>\n",
       "      <td>0</td>\n",
       "      <td>23.3</td>\n",
       "      <td>0.672</td>\n",
       "      <td>32</td>\n",
       "      <td>1</td>\n",
       "    </tr>\n",
       "    <tr>\n",
       "      <th>3</th>\n",
       "      <td>1</td>\n",
       "      <td>89</td>\n",
       "      <td>66</td>\n",
       "      <td>23</td>\n",
       "      <td>94</td>\n",
       "      <td>28.1</td>\n",
       "      <td>0.167</td>\n",
       "      <td>21</td>\n",
       "      <td>0</td>\n",
       "    </tr>\n",
       "    <tr>\n",
       "      <th>4</th>\n",
       "      <td>0</td>\n",
       "      <td>137</td>\n",
       "      <td>40</td>\n",
       "      <td>35</td>\n",
       "      <td>168</td>\n",
       "      <td>43.1</td>\n",
       "      <td>2.288</td>\n",
       "      <td>33</td>\n",
       "      <td>1</td>\n",
       "    </tr>\n",
       "  </tbody>\n",
       "</table>\n",
       "</div>"
      ],
      "text/plain": [
       "   Pregnancies  Glucose  BloodPressure  SkinThickness  Insulin   BMI  \\\n",
       "0            6      148             72             35        0  33.6   \n",
       "1            1       85             66             29        0  26.6   \n",
       "2            8      183             64              0        0  23.3   \n",
       "3            1       89             66             23       94  28.1   \n",
       "4            0      137             40             35      168  43.1   \n",
       "\n",
       "   DiabetesPedigreeFunction  Age  Outcome  \n",
       "0                     0.627   50        1  \n",
       "1                     0.351   31        0  \n",
       "2                     0.672   32        1  \n",
       "3                     0.167   21        0  \n",
       "4                     2.288   33        1  "
      ]
     },
     "execution_count": 2,
     "metadata": {},
     "output_type": "execute_result"
    }
   ],
   "source": [
    "diabetes.head() #Testing to see I got the correct data"
   ]
  },
  {
   "cell_type": "code",
   "execution_count": 3,
   "id": "cd848df9",
   "metadata": {},
   "outputs": [],
   "source": [
    "X = diabetes.iloc[:, [0,1,2,3,4,5,6,7]].values\n",
    "Y = diabetes.iloc[:, 8]"
   ]
  },
  {
   "cell_type": "code",
   "execution_count": 4,
   "id": "c8e05027",
   "metadata": {},
   "outputs": [],
   "source": [
    "from sklearn.model_selection import train_test_split\n",
    "import random\n",
    "X_train, X_test, Y_train, Y_test = train_test_split(X, Y, train_size=0.8, test_size = 0.2, random_state = random.randint(0, 100000))\n",
    "#Split the data into randomized test and training sets"
   ]
  },
  {
   "cell_type": "code",
   "execution_count": 5,
   "id": "4548ffc7",
   "metadata": {},
   "outputs": [],
   "source": [
    "#Standardize the values as Glucose and DPF are very far apart\n",
    "from sklearn.preprocessing import StandardScaler \n",
    "sc_X = StandardScaler() \n",
    "X_train = sc_X.fit_transform(X_train) \n",
    "X_test = sc_X.transform(X_test)"
   ]
  },
  {
   "cell_type": "code",
   "execution_count": 6,
   "id": "1284281b",
   "metadata": {},
   "outputs": [],
   "source": [
    "##################################################################### Question 1"
   ]
  },
  {
   "cell_type": "code",
   "execution_count": 7,
   "id": "d0ec03c1",
   "metadata": {},
   "outputs": [
    {
     "data": {
      "text/plain": [
       "LogisticRegression(random_state=0)"
      ]
     },
     "execution_count": 7,
     "metadata": {},
     "output_type": "execute_result"
    }
   ],
   "source": [
    "#Using pre-built logistic regression model to generate predictions\n",
    "from sklearn.linear_model import LogisticRegression \n",
    "classifier = LogisticRegression(random_state=0) \n",
    "classifier.fit(X_train, Y_train) "
   ]
  },
  {
   "cell_type": "code",
   "execution_count": 8,
   "id": "5ac8c41a",
   "metadata": {},
   "outputs": [
    {
     "data": {
      "text/plain": [
       "array([0, 1, 1, 0, 0], dtype=int64)"
      ]
     },
     "execution_count": 8,
     "metadata": {},
     "output_type": "execute_result"
    }
   ],
   "source": [
    "Y_pred = classifier.predict(X_test)\n",
    "Y_pred[0:5]"
   ]
  },
  {
   "cell_type": "code",
   "execution_count": 9,
   "id": "3f9debc3",
   "metadata": {},
   "outputs": [
    {
     "data": {
      "text/plain": [
       "array([[91,  6],\n",
       "       [28, 29]], dtype=int64)"
      ]
     },
     "execution_count": 9,
     "metadata": {},
     "output_type": "execute_result"
    }
   ],
   "source": [
    "#Using confusion matrix to obtain accuracy and other statistics\n",
    "from sklearn.metrics import confusion_matrix \n",
    "cnf_matrix = confusion_matrix(Y_test, Y_pred) \n",
    "cnf_matrix "
   ]
  },
  {
   "cell_type": "code",
   "execution_count": 10,
   "id": "0c43cd07",
   "metadata": {},
   "outputs": [
    {
     "name": "stdout",
     "output_type": "stream",
     "text": [
      "Accuracy: 0.7792207792207793\n",
      "Precision: 0.8285714285714286\n",
      "Recall: 0.5087719298245614\n"
     ]
    }
   ],
   "source": [
    "from sklearn import metrics \n",
    "print(\"Accuracy:\",metrics.accuracy_score(Y_test, Y_pred)) \n",
    "print(\"Precision:\",metrics.precision_score(Y_test, Y_pred)) \n",
    "print(\"Recall:\",metrics.recall_score(Y_test, Y_pred)) "
   ]
  },
  {
   "cell_type": "code",
   "execution_count": 11,
   "id": "fd350fac",
   "metadata": {},
   "outputs": [
    {
     "data": {
      "text/plain": [
       "Text(0.5, 257.44, 'Predicted label')"
      ]
     },
     "execution_count": 11,
     "metadata": {},
     "output_type": "execute_result"
    },
    {
     "data": {
      "image/png": "[encoded data removed]",
      "text/plain": [
       "<Figure size 432x288 with 2 Axes>"
      ]
     },
     "metadata": {
      "needs_background": "light"
     },
     "output_type": "display_data"
    }
   ],
   "source": [
    "#Heat map of my confusion matrix\n",
    "import seaborn as sns \n",
    "class_names=[0,1] # name  of classes \n",
    "fig, ax = plt.subplots() \n",
    "tick_marks = np.arange(len(class_names)) \n",
    "plt.xticks(tick_marks, class_names) \n",
    "plt.yticks(tick_marks, class_names) \n",
    "# create heatmap \n",
    "sns.heatmap(pd.DataFrame(cnf_matrix), annot=True, cmap=\"YlGnBu\" ,fmt='g') \n",
    "ax.xaxis.set_label_position(\"top\") \n",
    "plt.tight_layout() \n",
    "plt.title('Confusion matrix', y=1.1) \n",
    "plt.ylabel('Actual label') \n",
    "plt.xlabel('Predicted label') "
   ]
  },
  {
   "cell_type": "code",
   "execution_count": 12,
   "id": "a17f86b1",
   "metadata": {},
   "outputs": [],
   "source": [
    "#################################################### Question 2"
   ]
  },
  {
   "cell_type": "code",
   "execution_count": 13,
   "id": "4f7c5177",
   "metadata": {},
   "outputs": [
    {
     "data": {
      "text/plain": [
       "GaussianNB()"
      ]
     },
     "execution_count": 13,
     "metadata": {},
     "output_type": "execute_result"
    }
   ],
   "source": [
    "from sklearn.naive_bayes import GaussianNB \n",
    "classifier = GaussianNB() \n",
    "classifier.fit(X_train, Y_train)"
   ]
  },
  {
   "cell_type": "code",
   "execution_count": 14,
   "id": "56f0717d",
   "metadata": {},
   "outputs": [],
   "source": [
    "Y2_pred  =  classifier.predict(X_test)"
   ]
  },
  {
   "cell_type": "code",
   "execution_count": 15,
   "id": "b2ef8015",
   "metadata": {},
   "outputs": [],
   "source": [
    "cnf_matrix = confusion_matrix(Y_test, Y2_pred)"
   ]
  },
  {
   "cell_type": "code",
   "execution_count": 16,
   "id": "cbe2b813",
   "metadata": {},
   "outputs": [
    {
     "name": "stdout",
     "output_type": "stream",
     "text": [
      "Accuracy: 0.7662337662337663\n",
      "Precision: 0.7333333333333333\n",
      "Recall: 0.5789473684210527\n"
     ]
    }
   ],
   "source": [
    "print(\"Accuracy:\",metrics.accuracy_score(Y_test, Y2_pred)) \n",
    "print(\"Precision:\",metrics.precision_score(Y_test, Y2_pred)) \n",
    "print(\"Recall:\",metrics.recall_score(Y_test, Y2_pred)) "
   ]
  },
  {
   "cell_type": "code",
   "execution_count": 17,
   "id": "3ab9d120",
   "metadata": {},
   "outputs": [
    {
     "data": {
      "text/plain": [
       "Text(0.5, 257.44, 'Predicted label')"
      ]
     },
     "execution_count": 17,
     "metadata": {},
     "output_type": "execute_result"
    },
    {
     "data": {
      "image/png": "[encoded data removed]",
      "text/plain": [
       "<Figure size 432x288 with 2 Axes>"
      ]
     },
     "metadata": {
      "needs_background": "light"
     },
     "output_type": "display_data"
    }
   ],
   "source": [
    "class_names=[0,1] # name  of classes \n",
    "fig, ax = plt.subplots() \n",
    "tick_marks = np.arange(len(class_names)) \n",
    "plt.xticks(tick_marks, class_names) \n",
    "plt.yticks(tick_marks, class_names) \n",
    "# create heatmap \n",
    "sns.heatmap(pd.DataFrame(cnf_matrix), annot=True, cmap=\"YlGnBu\" ,fmt='g') \n",
    "ax.xaxis.set_label_position(\"top\") \n",
    "plt.tight_layout() \n",
    "plt.title('Confusion matrix', y=1.1) \n",
    "plt.ylabel('Actual label') \n",
    "plt.xlabel('Predicted label') "
   ]
  },
  {
   "cell_type": "code",
   "execution_count": 18,
   "id": "93137a57",
   "metadata": {},
   "outputs": [],
   "source": [
    "################################################ Question 3"
   ]
  },
  {
   "cell_type": "code",
   "execution_count": 19,
   "id": "7a1cea2e",
   "metadata": {},
   "outputs": [],
   "source": [
    "#K-fold Cross-validation for k=5\n",
    "from sklearn.model_selection import RepeatedKFold\n",
    "k = RepeatedKFold(n_splits=5, n_repeats=5, random_state=1)"
   ]
  },
  {
   "cell_type": "code",
   "execution_count": 20,
   "id": "d972b0b6",
   "metadata": {},
   "outputs": [],
   "source": [
    "classifier = LogisticRegression(random_state=0) \n",
    "from sklearn.model_selection import cross_validate\n",
    "Y3_pred = cross_validate(classifier, X, Y, scoring={'accuracy', 'precision', 'recall'}, cv=k, n_jobs=-1)"
   ]
  },
  {
   "cell_type": "code",
   "execution_count": 21,
   "id": "0c641025",
   "metadata": {},
   "outputs": [
    {
     "name": "stdout",
     "output_type": "stream",
     "text": [
      "For Kfold where K = 5 \n",
      "\n",
      "Accuracy:  0.7698124098124098\n",
      "Precision:  0.7219624522332068\n",
      "Recall:  0.5616658368097677\n"
     ]
    }
   ],
   "source": [
    "from numpy import mean\n",
    "from numpy import std\n",
    "print(\"For Kfold where K = 5 \\n\")\n",
    "print(\"Accuracy: \", np.mean(Y3_pred['test_accuracy']))\n",
    "print(\"Precision: \", np.mean(Y3_pred['test_precision']))\n",
    "print(\"Recall: \", np.mean(Y3_pred['test_recall']))"
   ]
  },
  {
   "cell_type": "code",
   "execution_count": 22,
   "id": "0628a025",
   "metadata": {},
   "outputs": [],
   "source": [
    "classifier = LogisticRegression(random_state=0) \n",
    "classifier.fit(X_train, Y_train)\n",
    "results = classifier.predict(X_test)"
   ]
  },
  {
   "cell_type": "code",
   "execution_count": 23,
   "id": "8ca6e592",
   "metadata": {},
   "outputs": [],
   "source": [
    "#K-fold Cross-validation for k=10\n",
    "k = RepeatedKFold(n_splits=10, n_repeats=10, random_state=1)\n",
    "Y3_pred2 = cross_validate(classifier, X, Y, scoring={'accuracy', 'precision', 'recall'}, cv=k, n_jobs=-1)"
   ]
  },
  {
   "cell_type": "code",
   "execution_count": 24,
   "id": "42d90546",
   "metadata": {},
   "outputs": [
    {
     "name": "stdout",
     "output_type": "stream",
     "text": [
      "For Kfold where K = 10 \n",
      "\n",
      "Accuracy:  0.7726725905673274\n",
      "Precision:  0.7209569062310969\n",
      "Recall:  0.5640236087525949\n"
     ]
    }
   ],
   "source": [
    "print(\"For Kfold where K = 10 \\n\")\n",
    "print(\"Accuracy: \", np.mean(Y3_pred2['test_accuracy']))\n",
    "print(\"Precision: \", np.mean(Y3_pred2['test_precision']))\n",
    "print(\"Recall: \", np.mean(Y3_pred2['test_recall']))"
   ]
  },
  {
   "cell_type": "code",
   "execution_count": 25,
   "id": "4a4f32e0",
   "metadata": {},
   "outputs": [],
   "source": [
    "################################################ Question 4"
   ]
  },
  {
   "cell_type": "code",
   "execution_count": 26,
   "id": "c6322e9e",
   "metadata": {},
   "outputs": [
    {
     "data": {
      "text/plain": [
       "GaussianNB()"
      ]
     },
     "execution_count": 26,
     "metadata": {},
     "output_type": "execute_result"
    }
   ],
   "source": [
    "classifier = GaussianNB() \n",
    "classifier.fit(X_train, Y_train)"
   ]
  },
  {
   "cell_type": "code",
   "execution_count": 27,
   "id": "ae11d40b",
   "metadata": {},
   "outputs": [],
   "source": [
    "#K-fold Cross-validation for k=10\n",
    "k = RepeatedKFold(n_splits=10, n_repeats=10, random_state=1)\n",
    "Y4_pred = cross_validate(classifier, X, Y, scoring={'accuracy', 'precision', 'recall'}, cv=k, n_jobs=-1)"
   ]
  },
  {
   "cell_type": "code",
   "execution_count": 28,
   "id": "3642219f",
   "metadata": {},
   "outputs": [
    {
     "name": "stdout",
     "output_type": "stream",
     "text": [
      "For Kfold where K = 10 \n",
      "\n",
      "Accuracy:  0.756026999316473\n",
      "Precision:  0.6646286806041585\n",
      "Recall:  0.6009380399144336\n"
     ]
    }
   ],
   "source": [
    "print(\"For Kfold where K = 10 \\n\")\n",
    "print(\"Accuracy: \", np.mean(Y4_pred['test_accuracy']))\n",
    "print(\"Precision: \", np.mean(Y4_pred['test_precision']))\n",
    "print(\"Recall: \", np.mean(Y4_pred['test_recall']))"
   ]
  },
  {
   "cell_type": "code",
   "execution_count": 29,
   "id": "e8373699",
   "metadata": {},
   "outputs": [],
   "source": [
    "# It does not make sense to do a K-fold analysis for a Bayes model because a Bayes model is just a formula based\n",
    "# on the data set it is given. As such, the K-fold method will merely generate K different, unrelated, systems."
   ]
  },
  {
   "cell_type": "code",
   "execution_count": null,
   "id": "a809e608",
   "metadata": {},
   "outputs": [],
   "source": []
  }
 ],
 "metadata": {
  "kernelspec": {
   "display_name": "Python 3",
   "language": "python",
   "name": "python3"
  },
  "language_info": {
   "codemirror_mode": {
    "name": "ipython",
    "version": 3
   },
   "file_extension": ".py",
   "mimetype": "text/x-python",
   "name": "python",
   "nbconvert_exporter": "python",
   "pygments_lexer": "ipython3",
   "version": "3.8.8"
  }
 },
 "nbformat": 4,
 "nbformat_minor": 5
}
