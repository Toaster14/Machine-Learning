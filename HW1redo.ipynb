{
 "cells": [
  {
   "cell_type": "code",
   "execution_count": 1,
   "id": "a3bdfc35",
   "metadata": {},
   "outputs": [],
   "source": [
    "import numpy as np \n",
    "import pandas as pd \n",
    "import matplotlib.pyplot as plt\n",
    "\n",
    "housing = pd.read_csv(r'C:\\Users\\nateisgreat98\\Downloads\\Housing.csv') #pulling the data set"
   ]
  },
  {
   "cell_type": "code",
   "execution_count": 2,
   "id": "eb320adc",
   "metadata": {},
   "outputs": [
    {
     "data": {
      "text/html": [
       "<div>\n",
       "<style scoped>\n",
       "    .dataframe tbody tr th:only-of-type {\n",
       "        vertical-align: middle;\n",
       "    }\n",
       "\n",
       "    .dataframe tbody tr th {\n",
       "        vertical-align: top;\n",
       "    }\n",
       "\n",
       "    .dataframe thead th {\n",
       "        text-align: right;\n",
       "    }\n",
       "</style>\n",
       "<table border=\"1\" class=\"dataframe\">\n",
       "  <thead>\n",
       "    <tr style=\"text-align: right;\">\n",
       "      <th></th>\n",
       "      <th>price</th>\n",
       "      <th>area</th>\n",
       "      <th>bedrooms</th>\n",
       "      <th>bathrooms</th>\n",
       "      <th>stories</th>\n",
       "      <th>mainroad</th>\n",
       "      <th>guestroom</th>\n",
       "      <th>basement</th>\n",
       "      <th>hotwaterheating</th>\n",
       "      <th>airconditioning</th>\n",
       "      <th>parking</th>\n",
       "      <th>prefarea</th>\n",
       "      <th>furnishingstatus</th>\n",
       "    </tr>\n",
       "  </thead>\n",
       "  <tbody>\n",
       "    <tr>\n",
       "      <th>0</th>\n",
       "      <td>13300000</td>\n",
       "      <td>7420</td>\n",
       "      <td>4</td>\n",
       "      <td>2</td>\n",
       "      <td>3</td>\n",
       "      <td>yes</td>\n",
       "      <td>no</td>\n",
       "      <td>no</td>\n",
       "      <td>no</td>\n",
       "      <td>yes</td>\n",
       "      <td>2</td>\n",
       "      <td>yes</td>\n",
       "      <td>furnished</td>\n",
       "    </tr>\n",
       "    <tr>\n",
       "      <th>1</th>\n",
       "      <td>12250000</td>\n",
       "      <td>8960</td>\n",
       "      <td>4</td>\n",
       "      <td>4</td>\n",
       "      <td>4</td>\n",
       "      <td>yes</td>\n",
       "      <td>no</td>\n",
       "      <td>no</td>\n",
       "      <td>no</td>\n",
       "      <td>yes</td>\n",
       "      <td>3</td>\n",
       "      <td>no</td>\n",
       "      <td>furnished</td>\n",
       "    </tr>\n",
       "    <tr>\n",
       "      <th>2</th>\n",
       "      <td>12250000</td>\n",
       "      <td>9960</td>\n",
       "      <td>3</td>\n",
       "      <td>2</td>\n",
       "      <td>2</td>\n",
       "      <td>yes</td>\n",
       "      <td>no</td>\n",
       "      <td>yes</td>\n",
       "      <td>no</td>\n",
       "      <td>no</td>\n",
       "      <td>2</td>\n",
       "      <td>yes</td>\n",
       "      <td>semi-furnished</td>\n",
       "    </tr>\n",
       "    <tr>\n",
       "      <th>3</th>\n",
       "      <td>12215000</td>\n",
       "      <td>7500</td>\n",
       "      <td>4</td>\n",
       "      <td>2</td>\n",
       "      <td>2</td>\n",
       "      <td>yes</td>\n",
       "      <td>no</td>\n",
       "      <td>yes</td>\n",
       "      <td>no</td>\n",
       "      <td>yes</td>\n",
       "      <td>3</td>\n",
       "      <td>yes</td>\n",
       "      <td>furnished</td>\n",
       "    </tr>\n",
       "    <tr>\n",
       "      <th>4</th>\n",
       "      <td>11410000</td>\n",
       "      <td>7420</td>\n",
       "      <td>4</td>\n",
       "      <td>1</td>\n",
       "      <td>2</td>\n",
       "      <td>yes</td>\n",
       "      <td>yes</td>\n",
       "      <td>yes</td>\n",
       "      <td>no</td>\n",
       "      <td>yes</td>\n",
       "      <td>2</td>\n",
       "      <td>no</td>\n",
       "      <td>furnished</td>\n",
       "    </tr>\n",
       "  </tbody>\n",
       "</table>\n",
       "</div>"
      ],
      "text/plain": [
       "      price  area  bedrooms  bathrooms  stories mainroad guestroom basement  \\\n",
       "0  13300000  7420         4          2        3      yes        no       no   \n",
       "1  12250000  8960         4          4        4      yes        no       no   \n",
       "2  12250000  9960         3          2        2      yes        no      yes   \n",
       "3  12215000  7500         4          2        2      yes        no      yes   \n",
       "4  11410000  7420         4          1        2      yes       yes      yes   \n",
       "\n",
       "  hotwaterheating airconditioning  parking prefarea furnishingstatus  \n",
       "0              no             yes        2      yes        furnished  \n",
       "1              no             yes        3       no        furnished  \n",
       "2              no              no        2      yes   semi-furnished  \n",
       "3              no             yes        3      yes        furnished  \n",
       "4              no             yes        2       no        furnished  "
      ]
     },
     "execution_count": 2,
     "metadata": {},
     "output_type": "execute_result"
    }
   ],
   "source": [
    "housing.head() #Testing to see I got the correct data"
   ]
  },
  {
   "cell_type": "code",
   "execution_count": 3,
   "id": "f1cb9d29",
   "metadata": {},
   "outputs": [],
   "source": [
    "def binary_map(x): #Conversion function for the binary values\n",
    "    return x.map({'yes': 1, 'no': 0 })\n",
    "def trinary_map(x): #Conversion function for furnished status\n",
    "    return x.map({'furnished': 2, 'semi-furnished': 1, 'unfurnished': 0})"
   ]
  },
  {
   "cell_type": "code",
   "execution_count": 4,
   "id": "cd848df9",
   "metadata": {},
   "outputs": [],
   "source": [
    "varlist = ['mainroad', 'guestroom', 'basement', 'hotwaterheating', 'airconditioning', 'prefarea']\n",
    "\n",
    "housing[varlist] = housing[varlist].apply(binary_map)\n",
    "varlist = ['furnishingstatus']\n",
    "housing[varlist] = housing[varlist].apply(trinary_map)"
   ]
  },
  {
   "cell_type": "code",
   "execution_count": 5,
   "id": "f2fffec8",
   "metadata": {},
   "outputs": [
    {
     "data": {
      "text/html": [
       "<div>\n",
       "<style scoped>\n",
       "    .dataframe tbody tr th:only-of-type {\n",
       "        vertical-align: middle;\n",
       "    }\n",
       "\n",
       "    .dataframe tbody tr th {\n",
       "        vertical-align: top;\n",
       "    }\n",
       "\n",
       "    .dataframe thead th {\n",
       "        text-align: right;\n",
       "    }\n",
       "</style>\n",
       "<table border=\"1\" class=\"dataframe\">\n",
       "  <thead>\n",
       "    <tr style=\"text-align: right;\">\n",
       "      <th></th>\n",
       "      <th>price</th>\n",
       "      <th>area</th>\n",
       "      <th>bedrooms</th>\n",
       "      <th>bathrooms</th>\n",
       "      <th>stories</th>\n",
       "      <th>mainroad</th>\n",
       "      <th>guestroom</th>\n",
       "      <th>basement</th>\n",
       "      <th>hotwaterheating</th>\n",
       "      <th>airconditioning</th>\n",
       "      <th>parking</th>\n",
       "      <th>prefarea</th>\n",
       "      <th>furnishingstatus</th>\n",
       "    </tr>\n",
       "  </thead>\n",
       "  <tbody>\n",
       "    <tr>\n",
       "      <th>0</th>\n",
       "      <td>13300000</td>\n",
       "      <td>7420</td>\n",
       "      <td>4</td>\n",
       "      <td>2</td>\n",
       "      <td>3</td>\n",
       "      <td>1</td>\n",
       "      <td>0</td>\n",
       "      <td>0</td>\n",
       "      <td>0</td>\n",
       "      <td>1</td>\n",
       "      <td>2</td>\n",
       "      <td>1</td>\n",
       "      <td>2</td>\n",
       "    </tr>\n",
       "    <tr>\n",
       "      <th>1</th>\n",
       "      <td>12250000</td>\n",
       "      <td>8960</td>\n",
       "      <td>4</td>\n",
       "      <td>4</td>\n",
       "      <td>4</td>\n",
       "      <td>1</td>\n",
       "      <td>0</td>\n",
       "      <td>0</td>\n",
       "      <td>0</td>\n",
       "      <td>1</td>\n",
       "      <td>3</td>\n",
       "      <td>0</td>\n",
       "      <td>2</td>\n",
       "    </tr>\n",
       "    <tr>\n",
       "      <th>2</th>\n",
       "      <td>12250000</td>\n",
       "      <td>9960</td>\n",
       "      <td>3</td>\n",
       "      <td>2</td>\n",
       "      <td>2</td>\n",
       "      <td>1</td>\n",
       "      <td>0</td>\n",
       "      <td>1</td>\n",
       "      <td>0</td>\n",
       "      <td>0</td>\n",
       "      <td>2</td>\n",
       "      <td>1</td>\n",
       "      <td>1</td>\n",
       "    </tr>\n",
       "    <tr>\n",
       "      <th>3</th>\n",
       "      <td>12215000</td>\n",
       "      <td>7500</td>\n",
       "      <td>4</td>\n",
       "      <td>2</td>\n",
       "      <td>2</td>\n",
       "      <td>1</td>\n",
       "      <td>0</td>\n",
       "      <td>1</td>\n",
       "      <td>0</td>\n",
       "      <td>1</td>\n",
       "      <td>3</td>\n",
       "      <td>1</td>\n",
       "      <td>2</td>\n",
       "    </tr>\n",
       "    <tr>\n",
       "      <th>4</th>\n",
       "      <td>11410000</td>\n",
       "      <td>7420</td>\n",
       "      <td>4</td>\n",
       "      <td>1</td>\n",
       "      <td>2</td>\n",
       "      <td>1</td>\n",
       "      <td>1</td>\n",
       "      <td>1</td>\n",
       "      <td>0</td>\n",
       "      <td>1</td>\n",
       "      <td>2</td>\n",
       "      <td>0</td>\n",
       "      <td>2</td>\n",
       "    </tr>\n",
       "  </tbody>\n",
       "</table>\n",
       "</div>"
      ],
      "text/plain": [
       "      price  area  bedrooms  bathrooms  stories  mainroad  guestroom  \\\n",
       "0  13300000  7420         4          2        3         1          0   \n",
       "1  12250000  8960         4          4        4         1          0   \n",
       "2  12250000  9960         3          2        2         1          0   \n",
       "3  12215000  7500         4          2        2         1          0   \n",
       "4  11410000  7420         4          1        2         1          1   \n",
       "\n",
       "   basement  hotwaterheating  airconditioning  parking  prefarea  \\\n",
       "0         0                0                1        2         1   \n",
       "1         0                0                1        3         0   \n",
       "2         1                0                0        2         1   \n",
       "3         1                0                1        3         1   \n",
       "4         1                0                1        2         0   \n",
       "\n",
       "   furnishingstatus  \n",
       "0                 2  \n",
       "1                 2  \n",
       "2                 1  \n",
       "3                 2  \n",
       "4                 2  "
      ]
     },
     "execution_count": 5,
     "metadata": {},
     "output_type": "execute_result"
    }
   ],
   "source": [
    "housing.head()"
   ]
  },
  {
   "cell_type": "code",
   "execution_count": 6,
   "id": "c8e05027",
   "metadata": {},
   "outputs": [],
   "source": [
    "from sklearn.model_selection import train_test_split\n",
    "import random\n",
    "df_train, df_test = train_test_split(housing, train_size=0.7, test_size = 0.3, random_state = random.randint(0, 100000))\n",
    "#Split the data into randomized test and training sets"
   ]
  },
  {
   "cell_type": "code",
   "execution_count": 7,
   "id": "dc6b91ba",
   "metadata": {},
   "outputs": [],
   "source": [
    "def compute_cost(X, y, theta):\n",
    "    \n",
    "    predictions = X.dot(theta)\n",
    "    errors = np.subtract(predictions, y)\n",
    "    sqrErrors = np.square(errors)\n",
    "    \n",
    "    J = 1 / (2 * m) * np.sum(sqrErrors)\n",
    "    \n",
    "    return J"
   ]
  },
  {
   "cell_type": "code",
   "execution_count": 8,
   "id": "206ea4ea",
   "metadata": {},
   "outputs": [],
   "source": [
    "def gradient_descent(X, y, theta, alpha, iterations, X2, y2):\n",
    "    \n",
    "    cost_history = np.zeros(iterations)\n",
    "    cost_history2 = np.zeros(iterations)\n",
    "    \n",
    "    for i in range(iterations):\n",
    "        predictions = X.dot(theta)\n",
    "        errors = np.subtract(predictions, y)\n",
    "        sum_delta = (alpha / m) * X.transpose().dot(errors);\n",
    "        theta = theta - sum_delta;\n",
    "        cost_history[i] = compute_cost(X, y, theta)\n",
    "        cost_history2[i] = compute_cost(X2, y2, theta)\n",
    "    \n",
    "    return theta, cost_history, cost_history2"
   ]
  },
  {
   "cell_type": "code",
   "execution_count": 9,
   "id": "f39f7d16",
   "metadata": {},
   "outputs": [],
   "source": [
    "#Problem 1 part A ############################################################################################################"
   ]
  },
  {
   "cell_type": "code",
   "execution_count": 10,
   "id": "10dbdb81",
   "metadata": {},
   "outputs": [],
   "source": [
    "X = df_train.values[:,(1,2,3,4,10)]\n",
    "m = len(df_train)\n",
    "X_0 = np.ones((m,1))\n",
    "X = np.hstack((X_0, X)) #Value for problem 1 linear regression\n",
    "\n",
    "price = df_train.values[:,0]\n",
    "\n",
    "X_f = df_test.values[:,(1,2,3,4,10)]\n",
    "m_f = len(df_test)\n",
    "X_0f = np.ones((m_f,1))\n",
    "X_f = np.hstack((X_0f, X_f)) #testing values for problem 1 linear regression test\n",
    "\n",
    "price_f = df_test.values[:,0]"
   ]
  },
  {
   "cell_type": "code",
   "execution_count": 11,
   "id": "7817d9a8",
   "metadata": {},
   "outputs": [],
   "source": [
    "#The most relevant parameter appears to be area."
   ]
  },
  {
   "cell_type": "code",
   "execution_count": 12,
   "id": "3763c630",
   "metadata": {},
   "outputs": [],
   "source": [
    "theta = [0., 0., 0., 0., 0., 0.]\n",
    "iterations = 1500; #With such a small learning rate, increasing the iterations by an appricable amount causes the gradient\n",
    "                    #descent to take a *very* long time. For now, 1500 will suffice.\n",
    "alpha = 0.00000001; #An OBSCENELY small learning rate is required because we have no normilization or standardization"
   ]
  },
  {
   "cell_type": "code",
   "execution_count": 13,
   "id": "036af5c6",
   "metadata": {},
   "outputs": [
    {
     "name": "stdout",
     "output_type": "stream",
     "text": [
      "Final value of theta = [  6.15249667 853.04552078  23.43678028  13.18406741  20.01563242\n",
      "   5.52598432]\n",
      "Final Cost = 1883440924595.1667\n"
     ]
    }
   ],
   "source": [
    "theta, cost_history, cost_history2 = gradient_descent(X, price, theta, alpha, iterations, X_f, price_f)\n",
    "print('Final value of theta =', theta)\n",
    "print('Final Cost =', cost_history[-1])"
   ]
  },
  {
   "cell_type": "code",
   "execution_count": 14,
   "id": "1010048b",
   "metadata": {},
   "outputs": [
    {
     "data": {
      "text/plain": [
       "Text(0.5, 1.0, 'Convergence of gradient descent')"
      ]
     },
     "execution_count": 14,
     "metadata": {},
     "output_type": "execute_result"
    },
    {
     "data": {
      "image/png": "[encoded data removed]",
      "text/plain": [
       "<Figure size 432x288 with 1 Axes>"
      ]
     },
     "metadata": {
      "needs_background": "light"
     },
     "output_type": "display_data"
    }
   ],
   "source": [
    "plt.plot(range(1,iterations+1),cost_history,color='blue')\n",
    "plt.plot(range(1,iterations+1),cost_history2,color='green')\n",
    "plt.rcParams[\"figure.figsize\"]=(10,6)\n",
    "plt.grid()\n",
    "plt.xlabel('Number of iterations')\n",
    "plt.ylabel('Cost (J)')\n",
    "plt.title('Convergence of gradient descent')"
   ]
  },
  {
   "cell_type": "code",
   "execution_count": 15,
   "id": "6f54af3f",
   "metadata": {},
   "outputs": [],
   "source": [
    "# Although this does converge it has a truly staggeringly high cost which is strangely lower for the verification set. This\n",
    "# pattern of having a more accurate generalization will be seen in most of the future graphs as well. Overall, this is a truly \n",
    "# terrible system with a cost greater than a trillion!"
   ]
  },
  {
   "cell_type": "code",
   "execution_count": 16,
   "id": "ab140314",
   "metadata": {},
   "outputs": [],
   "source": [
    "#Problem 1 Part B ############################################################################################################"
   ]
  },
  {
   "cell_type": "code",
   "execution_count": 17,
   "id": "345ae633",
   "metadata": {},
   "outputs": [],
   "source": [
    "X = df_train.values[:,(1,2,3,4,5,6,7,8,9,10)]\n",
    "X = np.hstack((X_0, X)) #Value for problem 1 part B linear regression\n",
    "\n",
    "X_f = df_test.values[:,(1,2,3,4,5,6,7,8,9,10)]\n",
    "X_f = np.hstack((X_0f, X_f)) #Testing values for problem 1 part B linear regression test"
   ]
  },
  {
   "cell_type": "code",
   "execution_count": 18,
   "id": "42874a39",
   "metadata": {},
   "outputs": [],
   "source": [
    "#The most relevant parameter again appears to be area."
   ]
  },
  {
   "cell_type": "code",
   "execution_count": 19,
   "id": "a0cf49f5",
   "metadata": {},
   "outputs": [],
   "source": [
    "theta = [0., 0., 0., 0., 0., 0.,0.,0.,0.,0.,0.]\n",
    "iterations = 1500;\n",
    "alpha = 0.00000001; #Again, this alpha is pure ridiculousness. "
   ]
  },
  {
   "cell_type": "code",
   "execution_count": 20,
   "id": "6dc35077",
   "metadata": {},
   "outputs": [
    {
     "name": "stdout",
     "output_type": "stream",
     "text": [
      "Final value of theta = [  6.15248999 853.04410927  23.43675911  13.18405775  20.01561733\n",
      "   5.32591327   2.4706565    4.38537155   0.87812667   5.27856018\n",
      "   5.52598009]\n",
      "Final cost = [7.27331719e+12 4.31154995e+12 2.97731357e+12 ... 1.88343563e+12\n",
      " 1.88343557e+12 1.88343552e+12]\n"
     ]
    }
   ],
   "source": [
    "theta, cost_history, cost_history2 = gradient_descent(X, price, theta, alpha, iterations, X_f, price_f)\n",
    "print('Final value of theta =', theta)\n",
    "print('Final cost =', cost_history)"
   ]
  },
  {
   "cell_type": "code",
   "execution_count": 21,
   "id": "6a865d27",
   "metadata": {},
   "outputs": [
    {
     "data": {
      "text/plain": [
       "Text(0.5, 1.0, 'Convergence of gradient descent')"
      ]
     },
     "execution_count": 21,
     "metadata": {},
     "output_type": "execute_result"
    },
    {
     "data": {
      "image/png": "[encoded data removed]",
      "text/plain": [
       "<Figure size 720x432 with 1 Axes>"
      ]
     },
     "metadata": {
      "needs_background": "light"
     },
     "output_type": "display_data"
    }
   ],
   "source": [
    "plt.plot(range(1,iterations+1),cost_history,color='blue')\n",
    "plt.plot(range(1,iterations+1),cost_history2,color='green')\n",
    "plt.rcParams[\"figure.figsize\"]=(10,6)\n",
    "plt.grid()\n",
    "plt.xlabel('Number of iterations')\n",
    "plt.ylabel('Cost (J)')\n",
    "plt.title('Convergence of gradient descent')"
   ]
  },
  {
   "cell_type": "code",
   "execution_count": 22,
   "id": "25a36a7a",
   "metadata": {},
   "outputs": [],
   "source": [
    "# My final cost is still far too high though it does converge slightly. "
   ]
  },
  {
   "cell_type": "code",
   "execution_count": 23,
   "id": "2d3c61e7",
   "metadata": {},
   "outputs": [],
   "source": [
    "#Number 2 part A ############################################################################################################"
   ]
  },
  {
   "cell_type": "code",
   "execution_count": 24,
   "id": "579ea6c8",
   "metadata": {},
   "outputs": [],
   "source": [
    "# First Normalization:"
   ]
  },
  {
   "cell_type": "code",
   "execution_count": 25,
   "id": "3a46c3d3",
   "metadata": {},
   "outputs": [],
   "source": [
    "num_vars = ['area', 'bedrooms', 'bathrooms', 'stories', 'parking', 'price']\n",
    "df_Newtrain = df_train[num_vars]\n",
    "df_Newtest = df_test[num_vars]"
   ]
  },
  {
   "cell_type": "code",
   "execution_count": 26,
   "id": "d36a350b",
   "metadata": {},
   "outputs": [],
   "source": [
    "import warnings\n",
    "warnings.filterwarnings('ignore')\n",
    "from sklearn.preprocessing import MinMaxScaler, StandardScaler"
   ]
  },
  {
   "cell_type": "code",
   "execution_count": 27,
   "id": "c3e479ad",
   "metadata": {},
   "outputs": [],
   "source": [
    "#define standard scaler for Normalization\n",
    "scaler = MinMaxScaler()\n",
    "df_Newtrain[num_vars] = scaler.fit_transform(df_Newtrain[num_vars])\n",
    "\n",
    "df_Newtest[num_vars] = scaler.fit_transform(df_Newtest[num_vars])"
   ]
  },
  {
   "cell_type": "code",
   "execution_count": 28,
   "id": "63c43fb4",
   "metadata": {},
   "outputs": [
    {
     "data": {
      "text/html": [
       "<div>\n",
       "<style scoped>\n",
       "    .dataframe tbody tr th:only-of-type {\n",
       "        vertical-align: middle;\n",
       "    }\n",
       "\n",
       "    .dataframe tbody tr th {\n",
       "        vertical-align: top;\n",
       "    }\n",
       "\n",
       "    .dataframe thead th {\n",
       "        text-align: right;\n",
       "    }\n",
       "</style>\n",
       "<table border=\"1\" class=\"dataframe\">\n",
       "  <thead>\n",
       "    <tr style=\"text-align: right;\">\n",
       "      <th></th>\n",
       "      <th>area</th>\n",
       "      <th>bedrooms</th>\n",
       "      <th>bathrooms</th>\n",
       "      <th>stories</th>\n",
       "      <th>parking</th>\n",
       "      <th>price</th>\n",
       "    </tr>\n",
       "  </thead>\n",
       "  <tbody>\n",
       "    <tr>\n",
       "      <th>493</th>\n",
       "      <td>0.158763</td>\n",
       "      <td>0.4</td>\n",
       "      <td>0.000000</td>\n",
       "      <td>0.000000</td>\n",
       "      <td>0.000000</td>\n",
       "      <td>0.090909</td>\n",
       "    </tr>\n",
       "    <tr>\n",
       "      <th>221</th>\n",
       "      <td>0.121649</td>\n",
       "      <td>0.6</td>\n",
       "      <td>0.333333</td>\n",
       "      <td>0.333333</td>\n",
       "      <td>0.000000</td>\n",
       "      <td>0.261212</td>\n",
       "    </tr>\n",
       "    <tr>\n",
       "      <th>94</th>\n",
       "      <td>0.298969</td>\n",
       "      <td>0.6</td>\n",
       "      <td>0.333333</td>\n",
       "      <td>1.000000</td>\n",
       "      <td>0.333333</td>\n",
       "      <td>0.393939</td>\n",
       "    </tr>\n",
       "    <tr>\n",
       "      <th>193</th>\n",
       "      <td>0.216495</td>\n",
       "      <td>0.2</td>\n",
       "      <td>0.000000</td>\n",
       "      <td>0.000000</td>\n",
       "      <td>0.000000</td>\n",
       "      <td>0.284242</td>\n",
       "    </tr>\n",
       "    <tr>\n",
       "      <th>345</th>\n",
       "      <td>0.025086</td>\n",
       "      <td>0.4</td>\n",
       "      <td>0.000000</td>\n",
       "      <td>0.333333</td>\n",
       "      <td>0.000000</td>\n",
       "      <td>0.181818</td>\n",
       "    </tr>\n",
       "  </tbody>\n",
       "</table>\n",
       "</div>"
      ],
      "text/plain": [
       "         area  bedrooms  bathrooms   stories   parking     price\n",
       "493  0.158763       0.4   0.000000  0.000000  0.000000  0.090909\n",
       "221  0.121649       0.6   0.333333  0.333333  0.000000  0.261212\n",
       "94   0.298969       0.6   0.333333  1.000000  0.333333  0.393939\n",
       "193  0.216495       0.2   0.000000  0.000000  0.000000  0.284242\n",
       "345  0.025086       0.4   0.000000  0.333333  0.000000  0.181818"
      ]
     },
     "execution_count": 28,
     "metadata": {},
     "output_type": "execute_result"
    }
   ],
   "source": [
    "df_Newtrain.head()"
   ]
  },
  {
   "cell_type": "code",
   "execution_count": 29,
   "id": "5128448e",
   "metadata": {},
   "outputs": [],
   "source": [
    "price = df_Newtrain.pop('price')\n",
    "X = np.hstack((X_0, df_Newtrain)) #Value for problem 2 part A linear regression\n",
    "price_f = df_Newtest.pop('price')\n",
    "X_f = np.hstack((X_0f, df_Newtest))"
   ]
  },
  {
   "cell_type": "code",
   "execution_count": 30,
   "id": "da037d9e",
   "metadata": {},
   "outputs": [],
   "source": [
    "theta = [0., 0., 0., 0., 0., 0.]\n",
    "iterations = 1500;\n",
    "alpha = 0.01;"
   ]
  },
  {
   "cell_type": "code",
   "execution_count": 31,
   "id": "b013cee9",
   "metadata": {},
   "outputs": [
    {
     "name": "stdout",
     "output_type": "stream",
     "text": [
      "Final value of theta = [0.11390349 0.15690333 0.09782443 0.14167549 0.13398732 0.13548246]\n",
      "Final cost = 0.007536059979386965\n"
     ]
    }
   ],
   "source": [
    "theta, cost_history, cost_history2 = gradient_descent(X, price, theta, alpha, iterations, X_f, price_f)\n",
    "print('Final value of theta =', theta)\n",
    "print('Final cost =', cost_history[-1])"
   ]
  },
  {
   "cell_type": "code",
   "execution_count": 32,
   "id": "b077b9e3",
   "metadata": {},
   "outputs": [
    {
     "data": {
      "text/plain": [
       "Text(0.5, 1.0, 'Convergence of gradient descent with Normalization')"
      ]
     },
     "execution_count": 32,
     "metadata": {},
     "output_type": "execute_result"
    },
    {
     "data": {
      "image/png": "[encoded data removed]",
      "text/plain": [
       "<Figure size 720x432 with 1 Axes>"
      ]
     },
     "metadata": {
      "needs_background": "light"
     },
     "output_type": "display_data"
    }
   ],
   "source": [
    "plt.plot(range(1,iterations+1),cost_history,color='blue')\n",
    "plt.plot(range(1,iterations+1),cost_history2,color='green')\n",
    "plt.rcParams[\"figure.figsize\"]=(10,6)\n",
    "plt.grid()\n",
    "plt.xlabel('Number of iterations')\n",
    "plt.ylabel('Cost (J)')\n",
    "plt.title('Convergence of gradient descent with Normalization')"
   ]
  },
  {
   "cell_type": "code",
   "execution_count": 33,
   "id": "31be0e1f",
   "metadata": {},
   "outputs": [],
   "source": [
    "#The cost and convergance are much MUCH better. The cost alone is literally less than 0.01 compared to over a trillion. Calling\n",
    "#this a \"night and day difference\" feels inadequate."
   ]
  },
  {
   "cell_type": "code",
   "execution_count": 34,
   "id": "0318b96e",
   "metadata": {},
   "outputs": [],
   "source": [
    "#Now for standardization "
   ]
  },
  {
   "cell_type": "code",
   "execution_count": 35,
   "id": "a00aa776",
   "metadata": {},
   "outputs": [],
   "source": [
    "df_Newtrain = df_train[num_vars]\n",
    "df_Newtest = df_test[num_vars]"
   ]
  },
  {
   "cell_type": "code",
   "execution_count": 36,
   "id": "24e2eba2",
   "metadata": {},
   "outputs": [],
   "source": [
    "#define standard scaler for Standardization\n",
    "scaler = StandardScaler()\n",
    "df_Newtrain[num_vars] = scaler.fit_transform(df_Newtrain[num_vars])\n",
    "\n",
    "df_Newtest[num_vars] = scaler.fit_transform(df_Newtest[num_vars])"
   ]
  },
  {
   "cell_type": "code",
   "execution_count": 37,
   "id": "2686f43f",
   "metadata": {},
   "outputs": [
    {
     "data": {
      "text/html": [
       "<div>\n",
       "<style scoped>\n",
       "    .dataframe tbody tr th:only-of-type {\n",
       "        vertical-align: middle;\n",
       "    }\n",
       "\n",
       "    .dataframe tbody tr th {\n",
       "        vertical-align: top;\n",
       "    }\n",
       "\n",
       "    .dataframe thead th {\n",
       "        text-align: right;\n",
       "    }\n",
       "</style>\n",
       "<table border=\"1\" class=\"dataframe\">\n",
       "  <thead>\n",
       "    <tr style=\"text-align: right;\">\n",
       "      <th></th>\n",
       "      <th>area</th>\n",
       "      <th>bedrooms</th>\n",
       "      <th>bathrooms</th>\n",
       "      <th>stories</th>\n",
       "      <th>parking</th>\n",
       "      <th>price</th>\n",
       "    </tr>\n",
       "  </thead>\n",
       "  <tbody>\n",
       "    <tr>\n",
       "      <th>493</th>\n",
       "      <td>-0.571059</td>\n",
       "      <td>0.028430</td>\n",
       "      <td>-0.578598</td>\n",
       "      <td>-0.908029</td>\n",
       "      <td>-0.825385</td>\n",
       "      <td>-1.073831</td>\n",
       "    </tr>\n",
       "    <tr>\n",
       "      <th>221</th>\n",
       "      <td>-0.807955</td>\n",
       "      <td>1.382391</td>\n",
       "      <td>1.355138</td>\n",
       "      <td>0.197271</td>\n",
       "      <td>-0.825385</td>\n",
       "      <td>-0.063039</td>\n",
       "    </tr>\n",
       "    <tr>\n",
       "      <th>94</th>\n",
       "      <td>0.323882</td>\n",
       "      <td>1.382391</td>\n",
       "      <td>1.355138</td>\n",
       "      <td>2.407872</td>\n",
       "      <td>0.309892</td>\n",
       "      <td>0.724731</td>\n",
       "    </tr>\n",
       "    <tr>\n",
       "      <th>193</th>\n",
       "      <td>-0.202553</td>\n",
       "      <td>-1.325532</td>\n",
       "      <td>-0.578598</td>\n",
       "      <td>-0.908029</td>\n",
       "      <td>-0.825385</td>\n",
       "      <td>0.073652</td>\n",
       "    </tr>\n",
       "    <tr>\n",
       "      <th>345</th>\n",
       "      <td>-1.424323</td>\n",
       "      <td>0.028430</td>\n",
       "      <td>-0.578598</td>\n",
       "      <td>0.197271</td>\n",
       "      <td>-0.825385</td>\n",
       "      <td>-0.534262</td>\n",
       "    </tr>\n",
       "  </tbody>\n",
       "</table>\n",
       "</div>"
      ],
      "text/plain": [
       "         area  bedrooms  bathrooms   stories   parking     price\n",
       "493 -0.571059  0.028430  -0.578598 -0.908029 -0.825385 -1.073831\n",
       "221 -0.807955  1.382391   1.355138  0.197271 -0.825385 -0.063039\n",
       "94   0.323882  1.382391   1.355138  2.407872  0.309892  0.724731\n",
       "193 -0.202553 -1.325532  -0.578598 -0.908029 -0.825385  0.073652\n",
       "345 -1.424323  0.028430  -0.578598  0.197271 -0.825385 -0.534262"
      ]
     },
     "execution_count": 37,
     "metadata": {},
     "output_type": "execute_result"
    }
   ],
   "source": [
    "df_Newtrain.head()"
   ]
  },
  {
   "cell_type": "code",
   "execution_count": 38,
   "id": "6e4d3130",
   "metadata": {},
   "outputs": [],
   "source": [
    "price = df_Newtrain.pop('price')\n",
    "X = np.hstack((X_0, df_Newtrain)) #Value for problem 2 part A linear regression\n",
    "price_f = df_Newtest.pop('price')\n",
    "X_f = np.hstack((X_0f, df_Newtest))"
   ]
  },
  {
   "cell_type": "code",
   "execution_count": 39,
   "id": "18041da9",
   "metadata": {},
   "outputs": [],
   "source": [
    "theta = [0., 0., 0., 0., 0., 0.]\n",
    "iterations = 1500;\n",
    "alpha = 0.01;"
   ]
  },
  {
   "cell_type": "code",
   "execution_count": 40,
   "id": "50953bd9",
   "metadata": {},
   "outputs": [
    {
     "name": "stdout",
     "output_type": "stream",
     "text": [
      "Final value of theta = [-9.67904672e-17  3.74500242e-01  6.83875544e-02  3.27237176e-01\n",
      "  2.31618199e-01  1.94350695e-01]\n",
      "Final Cost = 0.22070034024338397\n"
     ]
    }
   ],
   "source": [
    "theta, cost_history, cost_history2 = gradient_descent(X, price, theta, alpha, iterations, X_f, price_f)\n",
    "print('Final value of theta =', theta)\n",
    "print('Final Cost =', cost_history[-1])"
   ]
  },
  {
   "cell_type": "code",
   "execution_count": 41,
   "id": "a68d77fc",
   "metadata": {},
   "outputs": [
    {
     "data": {
      "text/plain": [
       "Text(0.5, 1.0, 'Convergence of gradient descent with Standardization')"
      ]
     },
     "execution_count": 41,
     "metadata": {},
     "output_type": "execute_result"
    },
    {
     "data": {
      "image/png": "[encoded data removed]",
      "text/plain": [
       "<Figure size 720x432 with 1 Axes>"
      ]
     },
     "metadata": {
      "needs_background": "light"
     },
     "output_type": "display_data"
    }
   ],
   "source": [
    "plt.plot(range(1,iterations+1),cost_history,color='blue')\n",
    "plt.plot(range(1,iterations+1),cost_history2,color='green')\n",
    "plt.rcParams[\"figure.figsize\"]=(10,6)\n",
    "plt.grid()\n",
    "plt.xlabel('Number of iterations')\n",
    "plt.ylabel('Cost (J)')\n",
    "plt.title('Convergence of gradient descent with Standardization')"
   ]
  },
  {
   "cell_type": "code",
   "execution_count": 42,
   "id": "84578628",
   "metadata": {},
   "outputs": [],
   "source": [
    "# For standardization, once again the cost is far less than what it was originally. Intriguingly, it appears that the convergence \n",
    "# isn’t as close in the Standardization. In addition, the cost is slightly lower for both the training and testing data set with \n",
    "# Normalization. For these reasons I would choose *Normalization* as the input scaling that improves the model the most."
   ]
  },
  {
   "cell_type": "code",
   "execution_count": 43,
   "id": "1782c9e8",
   "metadata": {},
   "outputs": [],
   "source": [
    "#Problem 2 part B #############################################################################################################"
   ]
  },
  {
   "cell_type": "code",
   "execution_count": 44,
   "id": "b495ad58",
   "metadata": {},
   "outputs": [],
   "source": [
    "#Normalization"
   ]
  },
  {
   "cell_type": "code",
   "execution_count": 45,
   "id": "b53abc28",
   "metadata": {},
   "outputs": [],
   "source": [
    "num_vars = ['area', 'bedrooms', 'bathrooms', 'stories', 'mainroad', 'guestroom', 'basement', 'hotwaterheating', 'airconditioning', 'parking', 'prefarea', 'price']\n",
    "df_Newtrain = df_train[num_vars]\n",
    "df_Newtest = df_test[num_vars]\n",
    "\n",
    "#define standard scaler for Normalization\n",
    "scaler = MinMaxScaler()\n",
    "df_Newtrain[num_vars] = scaler.fit_transform(df_Newtrain[num_vars])\n",
    "\n",
    "df_Newtest[num_vars] = scaler.fit_transform(df_Newtest[num_vars])"
   ]
  },
  {
   "cell_type": "code",
   "execution_count": 46,
   "id": "6904334f",
   "metadata": {},
   "outputs": [],
   "source": [
    "price = df_Newtrain.pop('price')\n",
    "X = np.hstack((X_0, df_Newtrain)) #Value for problem 2 part A linear regression\n",
    "price_f = df_Newtest.pop('price')\n",
    "X_f = np.hstack((X_0f, df_Newtest))"
   ]
  },
  {
   "cell_type": "code",
   "execution_count": 47,
   "id": "5b54f7e2",
   "metadata": {},
   "outputs": [],
   "source": [
    "theta = [0., 0., 0., 0., 0., 0., 0., 0., 0., 0., 0., 0.]\n",
    "iterations = 1500;\n",
    "alpha = 0.01;"
   ]
  },
  {
   "cell_type": "code",
   "execution_count": 48,
   "id": "079e3d0b",
   "metadata": {},
   "outputs": [
    {
     "name": "stdout",
     "output_type": "stream",
     "text": [
      "Final value of theta = [0.03935811 0.10736758 0.06820911 0.12516488 0.10619518 0.05837061\n",
      " 0.03572974 0.03582247 0.04136425 0.0961572  0.09776022 0.05531797]\n",
      "Final Cost = 0.00569225759572844\n"
     ]
    }
   ],
   "source": [
    "theta, cost_history, cost_history2 = gradient_descent(X, price, theta, alpha, iterations, X_f, price_f)\n",
    "print('Final value of theta =', theta)\n",
    "print('Final Cost =', cost_history[-1])"
   ]
  },
  {
   "cell_type": "code",
   "execution_count": 49,
   "id": "f9853661",
   "metadata": {},
   "outputs": [
    {
     "data": {
      "text/plain": [
       "Text(0.5, 1.0, 'Convergence of gradient descent with Normalization')"
      ]
     },
     "execution_count": 49,
     "metadata": {},
     "output_type": "execute_result"
    },
    {
     "data": {
      "image/png": "[encoded data removed]",
      "text/plain": [
       "<Figure size 720x432 with 1 Axes>"
      ]
     },
     "metadata": {
      "needs_background": "light"
     },
     "output_type": "display_data"
    }
   ],
   "source": [
    "plt.plot(range(1,iterations+1),cost_history,color='blue')\n",
    "plt.plot(range(1,iterations+1),cost_history2,color='green')\n",
    "plt.rcParams[\"figure.figsize\"]=(10,6)\n",
    "plt.grid()\n",
    "plt.xlabel('Number of iterations')\n",
    "plt.ylabel('Cost (J)')\n",
    "plt.title('Convergence of gradient descent with Normalization')"
   ]
  },
  {
   "cell_type": "code",
   "execution_count": 50,
   "id": "0f5cb92c",
   "metadata": {},
   "outputs": [],
   "source": [
    "# As before, the Normalization is looking very sharp. The model's cost continues to converge nicely, so no over fitting, and \n",
    "# possesses a very low final cost."
   ]
  },
  {
   "cell_type": "code",
   "execution_count": 51,
   "id": "ca7951b3",
   "metadata": {},
   "outputs": [],
   "source": [
    "#Standardization"
   ]
  },
  {
   "cell_type": "code",
   "execution_count": 52,
   "id": "3c220353",
   "metadata": {},
   "outputs": [],
   "source": [
    "df_Newtrain = df_train[num_vars]\n",
    "df_Newtest = df_test[num_vars]\n",
    "\n",
    "#define standard scaler for Standardization\n",
    "scaler = StandardScaler()\n",
    "df_Newtrain[num_vars] = scaler.fit_transform(df_Newtrain[num_vars])\n",
    "\n",
    "df_Newtest[num_vars] = scaler.fit_transform(df_Newtest[num_vars])"
   ]
  },
  {
   "cell_type": "code",
   "execution_count": 53,
   "id": "3acf405b",
   "metadata": {},
   "outputs": [],
   "source": [
    "price = df_Newtrain.pop('price')\n",
    "X = np.hstack((X_0, df_Newtrain)) #Value for problem 2 part A linear regression\n",
    "price_f = df_Newtest.pop('price')\n",
    "X_f = np.hstack((X_0f, df_Newtest))"
   ]
  },
  {
   "cell_type": "code",
   "execution_count": 54,
   "id": "c4c5b045",
   "metadata": {},
   "outputs": [],
   "source": [
    "theta = [0., 0., 0., 0., 0., 0., 0., 0., 0., 0., 0., 0.]\n",
    "iterations = 1500;\n",
    "alpha = 0.01;"
   ]
  },
  {
   "cell_type": "code",
   "execution_count": 55,
   "id": "243aeb4d",
   "metadata": {},
   "outputs": [
    {
     "name": "stdout",
     "output_type": "stream",
     "text": [
      "Final value of theta = [-6.20020221e-17  2.84677146e-01  5.07305715e-02  3.01604089e-01\n",
      "  1.98335190e-01  9.65620039e-02  4.83982465e-02  1.14061745e-01\n",
      "  8.80656452e-02  2.12503049e-01  1.47950798e-01  1.23191302e-01]\n",
      "Final Cost = 0.16765683919232421\n"
     ]
    }
   ],
   "source": [
    "theta, cost_history, cost_history2 = gradient_descent(X, price, theta, alpha, iterations, X_f, price_f)\n",
    "print('Final value of theta =', theta)\n",
    "print('Final Cost =', cost_history[-1])"
   ]
  },
  {
   "cell_type": "code",
   "execution_count": 56,
   "id": "a108ed73",
   "metadata": {},
   "outputs": [
    {
     "data": {
      "text/plain": [
       "Text(0.5, 1.0, 'Convergence of gradient descent with Standardization')"
      ]
     },
     "execution_count": 56,
     "metadata": {},
     "output_type": "execute_result"
    },
    {
     "data": {
      "image/png": "[encoded data removed]",
      "text/plain": [
       "<Figure size 720x432 with 1 Axes>"
      ]
     },
     "metadata": {
      "needs_background": "light"
     },
     "output_type": "display_data"
    }
   ],
   "source": [
    "plt.plot(range(1,iterations+1),cost_history,color='blue')\n",
    "plt.plot(range(1,iterations+1),cost_history2,color='green')\n",
    "plt.rcParams[\"figure.figsize\"]=(10,6)\n",
    "plt.grid()\n",
    "plt.xlabel('Number of iterations')\n",
    "plt.ylabel('Cost (J)')\n",
    "plt.title('Convergence of gradient descent with Standardization')"
   ]
  },
  {
   "cell_type": "code",
   "execution_count": 57,
   "id": "d562cdb6",
   "metadata": {},
   "outputs": [],
   "source": [
    "# Again, as before the cost model continues to be roughly identical to what it was before. I believe the models remain mostly\n",
    "# unchanged due to the binary options being underweighted. This idea shall be put to the test in problem 3."
   ]
  },
  {
   "cell_type": "code",
   "execution_count": 58,
   "id": "e594356f",
   "metadata": {},
   "outputs": [],
   "source": [
    "# Number 3 Part A #############################################################################################################"
   ]
  },
  {
   "cell_type": "code",
   "execution_count": 59,
   "id": "0e6c196d",
   "metadata": {},
   "outputs": [],
   "source": [
    "def compute_cost(X, y, theta):\n",
    "    \n",
    "    predictions = X.dot(theta)\n",
    "    errors = np.subtract(predictions, y)\n",
    "    sqrErrors = np.square(errors)\n",
    "    \n",
    "    penalty = 0.01\n",
    "    penMod = theta\n",
    "    penMod[0] = 0;\n",
    "    penMod = np.square(penalty)\n",
    "    penMod = np.sum(penMod, axis=0)\n",
    "    \n",
    "    J = 1 / (2 * m) * (np.sum(sqrErrors)+ penalty*penMod)\n",
    "    \n",
    "    return J\n",
    "# New and improved compute_cost function to add in the penalty"
   ]
  },
  {
   "cell_type": "code",
   "execution_count": 60,
   "id": "488f3cfb",
   "metadata": {},
   "outputs": [],
   "source": [
    "# First Normalization ###################################################################################################"
   ]
  },
  {
   "cell_type": "code",
   "execution_count": 61,
   "id": "72aad506",
   "metadata": {},
   "outputs": [],
   "source": [
    "#define standard scaler for Normalization\n",
    "num_vars = ['area', 'bedrooms', 'bathrooms', 'stories', 'parking', 'price']\n",
    "df_Newtrain = df_train[num_vars]\n",
    "df_Newtest = df_test[num_vars]\n",
    "\n",
    "scaler = MinMaxScaler()\n",
    "df_Newtrain[num_vars] = scaler.fit_transform(df_Newtrain[num_vars])\n",
    "\n",
    "df_Newtest[num_vars] = scaler.fit_transform(df_Newtest[num_vars])"
   ]
  },
  {
   "cell_type": "code",
   "execution_count": 62,
   "id": "417cfe73",
   "metadata": {},
   "outputs": [],
   "source": [
    "price = df_Newtrain.pop('price')\n",
    "X = np.hstack((X_0, df_Newtrain)) #Value for problem 3 part A linear regression\n",
    "price_f = df_Newtest.pop('price')\n",
    "X_f = np.hstack((X_0f, df_Newtest))"
   ]
  },
  {
   "cell_type": "code",
   "execution_count": 63,
   "id": "7d89b936",
   "metadata": {},
   "outputs": [],
   "source": [
    "theta = [0., 0., 0., 0., 0., 0.]\n",
    "iterations = 1500;\n",
    "alpha = 0.01;"
   ]
  },
  {
   "cell_type": "code",
   "execution_count": 64,
   "id": "c6867560",
   "metadata": {},
   "outputs": [
    {
     "name": "stdout",
     "output_type": "stream",
     "text": [
      "Final value of theta = [0.         0.24893578 0.25702713 0.14736832 0.16914607 0.17111154]\n",
      "Final cost = 0.0071872833456280705\n"
     ]
    }
   ],
   "source": [
    "theta, cost_history, cost_history2 = gradient_descent(X, price, theta, alpha, iterations, X_f, price_f)\n",
    "print('Final value of theta =', theta)\n",
    "print('Final cost =', cost_history[-1])"
   ]
  },
  {
   "cell_type": "code",
   "execution_count": 65,
   "id": "e297f538",
   "metadata": {},
   "outputs": [
    {
     "data": {
      "text/plain": [
       "Text(0.5, 1.0, 'Convergence of gradient descent with Normalization & Penalty')"
      ]
     },
     "execution_count": 65,
     "metadata": {},
     "output_type": "execute_result"
    },
    {
     "data": {
      "image/png": "[encoded data removed]",
      "text/plain": [
       "<Figure size 720x432 with 1 Axes>"
      ]
     },
     "metadata": {
      "needs_background": "light"
     },
     "output_type": "display_data"
    }
   ],
   "source": [
    "plt.plot(range(1,iterations+1),cost_history,color='blue')\n",
    "plt.plot(range(1,iterations+1),cost_history2,color='green')\n",
    "plt.rcParams[\"figure.figsize\"]=(10,6)\n",
    "plt.grid()\n",
    "plt.xlabel('Number of iterations')\n",
    "plt.ylabel('Cost (J)')\n",
    "plt.title('Convergence of gradient descent with Normalization & Penalty')"
   ]
  },
  {
   "cell_type": "code",
   "execution_count": 66,
   "id": "224d0e2f",
   "metadata": {},
   "outputs": [],
   "source": [
    "# Now for Standardization #########################################################################"
   ]
  },
  {
   "cell_type": "code",
   "execution_count": 67,
   "id": "cfbf48bf",
   "metadata": {},
   "outputs": [],
   "source": [
    "df_Newtrain = df_train[num_vars]\n",
    "df_Newtest = df_test[num_vars]\n",
    "\n",
    "#define standard scaler for Standardization\n",
    "scaler = StandardScaler()\n",
    "df_Newtrain[num_vars] = scaler.fit_transform(df_Newtrain[num_vars])\n",
    "\n",
    "df_Newtest[num_vars] = scaler.fit_transform(df_Newtest[num_vars])"
   ]
  },
  {
   "cell_type": "code",
   "execution_count": 68,
   "id": "3796823e",
   "metadata": {},
   "outputs": [],
   "source": [
    "price = df_Newtrain.pop('price')\n",
    "X = np.hstack((X_0, df_Newtrain)) #Value for problem 2 part A linear regression\n",
    "price_f = df_Newtest.pop('price')\n",
    "X_f = np.hstack((X_0f, df_Newtest))"
   ]
  },
  {
   "cell_type": "code",
   "execution_count": 69,
   "id": "e83f000b",
   "metadata": {},
   "outputs": [],
   "source": [
    "theta = [0., 0., 0., 0., 0., 0.]\n",
    "iterations = 1500;\n",
    "alpha = 0.01;"
   ]
  },
  {
   "cell_type": "code",
   "execution_count": 70,
   "id": "7161f949",
   "metadata": {},
   "outputs": [
    {
     "name": "stdout",
     "output_type": "stream",
     "text": [
      "Final value of theta = [0.         0.37450024 0.06838755 0.32723718 0.2316182  0.19435069]\n",
      "Final Cost = 0.2207003415557199\n"
     ]
    }
   ],
   "source": [
    "theta, cost_history, cost_history2 = gradient_descent(X, price, theta, alpha, iterations, X_f, price_f)\n",
    "print('Final value of theta =', theta)\n",
    "print('Final Cost =', cost_history[-1])"
   ]
  },
  {
   "cell_type": "code",
   "execution_count": 71,
   "id": "48a39874",
   "metadata": {},
   "outputs": [
    {
     "data": {
      "text/plain": [
       "Text(0.5, 1.0, 'Convergence of gradient descent with Standardization & Penalty')"
      ]
     },
     "execution_count": 71,
     "metadata": {},
     "output_type": "execute_result"
    },
    {
     "data": {
      "image/png": "[encoded data removed]",
      "text/plain": [
       "<Figure size 720x432 with 1 Axes>"
      ]
     },
     "metadata": {
      "needs_background": "light"
     },
     "output_type": "display_data"
    }
   ],
   "source": [
    "plt.plot(range(1,iterations+1),cost_history,color='blue')\n",
    "plt.plot(range(1,iterations+1),cost_history2,color='green')\n",
    "plt.rcParams[\"figure.figsize\"]=(10,6)\n",
    "plt.grid()\n",
    "plt.xlabel('Number of iterations')\n",
    "plt.ylabel('Cost (J)')\n",
    "plt.title('Convergence of gradient descent with Standardization & Penalty')"
   ]
  },
  {
   "cell_type": "code",
   "execution_count": 72,
   "id": "ee885f94",
   "metadata": {},
   "outputs": [],
   "source": [
    "# The cost appears to be the same for both Standardization and Normalization. In fact it seems as though there is no difference \n",
    "# at all. It appear that for Normalization the difference between the test and training costs is slightly smaller. For the \n",
    "# Standardization, however, the two do not appear to differ at all. This, strikes me as odd and I fear I may have implemented \n",
    "# the penalty incorrectly. I will look into it more. remains near (if not equal to) the cost of the un-penalized model. I would \n",
    "# say that, for this data set, I would pick a normalization data set with penalization. I would still say that pealization is \n",
    "# probably not needed but the slightly better convergence pushes me to recommend it."
   ]
  },
  {
   "cell_type": "code",
   "execution_count": 73,
   "id": "0ed934d4",
   "metadata": {},
   "outputs": [],
   "source": [
    "#Problem 3 Part B ##############################################################################################################"
   ]
  },
  {
   "cell_type": "code",
   "execution_count": 74,
   "id": "ce52f390",
   "metadata": {},
   "outputs": [],
   "source": [
    "#Normalization"
   ]
  },
  {
   "cell_type": "code",
   "execution_count": 75,
   "id": "20fa062c",
   "metadata": {},
   "outputs": [],
   "source": [
    "num_vars = ['area', 'bedrooms', 'bathrooms', 'stories', 'mainroad', 'guestroom', 'basement', 'hotwaterheating', 'airconditioning', 'parking', 'prefarea', 'price']\n",
    "df_Newtrain = df_train[num_vars]\n",
    "df_Newtest = df_test[num_vars]\n",
    "\n",
    "#define standard scaler for Normalization\n",
    "scaler = MinMaxScaler()\n",
    "df_Newtrain[num_vars] = scaler.fit_transform(df_Newtrain[num_vars])\n",
    "\n",
    "df_Newtest[num_vars] = scaler.fit_transform(df_Newtest[num_vars])"
   ]
  },
  {
   "cell_type": "code",
   "execution_count": 76,
   "id": "246fe6e0",
   "metadata": {},
   "outputs": [],
   "source": [
    "price = df_Newtrain.pop('price')\n",
    "X = np.hstack((X_0, df_Newtrain)) #Value for problem 2 part A linear regression\n",
    "price_f = df_Newtest.pop('price')\n",
    "X_f = np.hstack((X_0f, df_Newtest))"
   ]
  },
  {
   "cell_type": "code",
   "execution_count": 77,
   "id": "7f4b9394",
   "metadata": {},
   "outputs": [],
   "source": [
    "theta = [0., 0., 0., 0., 0., 0., 0., 0., 0., 0., 0., 0.]\n",
    "iterations = 1500;\n",
    "alpha = 0.01;"
   ]
  },
  {
   "cell_type": "code",
   "execution_count": 78,
   "id": "d528606d",
   "metadata": {},
   "outputs": [
    {
     "name": "stdout",
     "output_type": "stream",
     "text": [
      "Final value of theta = [0.         0.11841303 0.09980345 0.12501594 0.11025113 0.08379157\n",
      " 0.03202289 0.04034767 0.04539317 0.09504758 0.0969751  0.05120782]\n",
      "Final Cost = 0.005597593589310378\n"
     ]
    }
   ],
   "source": [
    "theta, cost_history, cost_history2 = gradient_descent(X, price, theta, alpha, iterations, X_f, price_f)\n",
    "print('Final value of theta =', theta)\n",
    "print('Final Cost =', cost_history[-1])"
   ]
  },
  {
   "cell_type": "code",
   "execution_count": 79,
   "id": "658e7cbe",
   "metadata": {},
   "outputs": [
    {
     "data": {
      "text/plain": [
       "Text(0.5, 1.0, 'Convergence of gradient descent with Normalization')"
      ]
     },
     "execution_count": 79,
     "metadata": {},
     "output_type": "execute_result"
    },
    {
     "data": {
      "image/png": "[encoded data removed]",
      "text/plain": [
       "<Figure size 720x432 with 1 Axes>"
      ]
     },
     "metadata": {
      "needs_background": "light"
     },
     "output_type": "display_data"
    }
   ],
   "source": [
    "plt.plot(range(1,iterations+1),cost_history,color='blue')\n",
    "plt.plot(range(1,iterations+1),cost_history2,color='green')\n",
    "plt.rcParams[\"figure.figsize\"]=(10,6)\n",
    "plt.grid()\n",
    "plt.xlabel('Number of iterations')\n",
    "plt.ylabel('Cost (J)')\n",
    "plt.title('Convergence of gradient descent with Normalization')"
   ]
  },
  {
   "cell_type": "code",
   "execution_count": null,
   "id": "d2fe0525",
   "metadata": {},
   "outputs": [],
   "source": []
  },
  {
   "cell_type": "code",
   "execution_count": 80,
   "id": "19c6ccbc",
   "metadata": {},
   "outputs": [],
   "source": [
    "#Standardization"
   ]
  },
  {
   "cell_type": "code",
   "execution_count": 81,
   "id": "dadf21a3",
   "metadata": {},
   "outputs": [],
   "source": [
    "df_Newtrain = df_train[num_vars]\n",
    "df_Newtest = df_test[num_vars]\n",
    "\n",
    "#define standard scaler for Standardization\n",
    "scaler = StandardScaler()\n",
    "df_Newtrain[num_vars] = scaler.fit_transform(df_Newtrain[num_vars])\n",
    "\n",
    "df_Newtest[num_vars] = scaler.fit_transform(df_Newtest[num_vars])"
   ]
  },
  {
   "cell_type": "code",
   "execution_count": 82,
   "id": "6b655b91",
   "metadata": {},
   "outputs": [],
   "source": [
    "price = df_Newtrain.pop('price')\n",
    "X = np.hstack((X_0, df_Newtrain)) #Value for problem 2 part A linear regression\n",
    "price_f = df_Newtest.pop('price')\n",
    "X_f = np.hstack((X_0f, df_Newtest))"
   ]
  },
  {
   "cell_type": "code",
   "execution_count": 83,
   "id": "9d3455f7",
   "metadata": {},
   "outputs": [],
   "source": [
    "theta = [0., 0., 0., 0., 0., 0., 0., 0., 0., 0., 0., 0.]\n",
    "iterations = 1500;\n",
    "alpha = 0.01;"
   ]
  },
  {
   "cell_type": "code",
   "execution_count": 84,
   "id": "6e9b93b7",
   "metadata": {},
   "outputs": [
    {
     "name": "stdout",
     "output_type": "stream",
     "text": [
      "Final value of theta = [0.         0.28467715 0.05073057 0.30160409 0.19833519 0.096562\n",
      " 0.04839825 0.11406174 0.08806565 0.21250305 0.1479508  0.1231913 ]\n",
      "Final Cost = 0.16765684050466015\n"
     ]
    }
   ],
   "source": [
    "theta, cost_history, cost_history2 = gradient_descent(X, price, theta, alpha, iterations, X_f, price_f)\n",
    "print('Final value of theta =', theta)\n",
    "print('Final Cost =', cost_history[-1])"
   ]
  },
  {
   "cell_type": "code",
   "execution_count": 85,
   "id": "735f16fe",
   "metadata": {},
   "outputs": [
    {
     "data": {
      "text/plain": [
       "Text(0.5, 1.0, 'Convergence of gradient descent with Standardization')"
      ]
     },
     "execution_count": 85,
     "metadata": {},
     "output_type": "execute_result"
    },
    {
     "data": {
      "image/png": "[encoded data removed]",
      "text/plain": [
       "<Figure size 720x432 with 1 Axes>"
      ]
     },
     "metadata": {
      "needs_background": "light"
     },
     "output_type": "display_data"
    }
   ],
   "source": [
    "plt.plot(range(1,iterations+1),cost_history,color='blue')\n",
    "plt.plot(range(1,iterations+1),cost_history2,color='green')\n",
    "plt.rcParams[\"figure.figsize\"]=(10,6)\n",
    "plt.grid()\n",
    "plt.xlabel('Number of iterations')\n",
    "plt.ylabel('Cost (J)')\n",
    "plt.title('Convergence of gradient descent with Standardization')"
   ]
  },
  {
   "cell_type": "code",
   "execution_count": null,
   "id": "d4db1c75",
   "metadata": {},
   "outputs": [],
   "source": [
    "# Again, there doesn't appear to be that much of an impact from using the penalty. This again has me pushing for the \n",
    "# Standardization with the penalty due to how closely the test and training costs mirror each other."
   ]
  }
 ],
 "metadata": {
  "kernelspec": {
   "display_name": "Python 3",
   "language": "python",
   "name": "python3"
  },
  "language_info": {
   "codemirror_mode": {
    "name": "ipython",
    "version": 3
   },
   "file_extension": ".py",
   "mimetype": "text/x-python",
   "name": "python",
   "nbconvert_exporter": "python",
   "pygments_lexer": "ipython3",
   "version": "3.8.8"
  }
 },
 "nbformat": 4,
 "nbformat_minor": 5
}
